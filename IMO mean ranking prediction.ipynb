{
 "cells": [
  {
   "cell_type": "markdown",
   "metadata": {},
   "source": [
    "## Jinxin Ma 10.28.2017\n",
    "\n",
    "In this notebook, we will attempt to predict the mean rank of IMO (International Mathematics Olympiad). for 101 countries. The structure of the notebook is as follows:\n",
    "\n",
    "1. Exploratory Data Analysis\n",
    "\n",
    "        1.1 Data Overview\n",
    "        1.2 Missing Value Exploration\n",
    "        1.3 Training and Test Set Split\n",
    "        1.4 Correlation Analysis\n",
    "2. Modeling for Regression\n",
    "\n",
    "        2.1 Data Preprocessing\n",
    "        2.2 Inital Model\n",
    "        2.3 Improved Model using Feature Selection and Dimension Reduction\n",
    "\n",
    "3. Modeling for Classification\n",
    "\n",
    "        2.1 Initial Model\n",
    "        2.2 Model after Changing Split Point of Response\n",
    "        2.3 Model using K-means to Derive Optimal Split of Response\n",
    "          \n",
    "4. Final Discussion and Potential Improvements"
   ]
  },
  {
   "cell_type": "code",
   "execution_count": 1,
   "metadata": {},
   "outputs": [
    {
     "name": "stderr",
     "output_type": "stream",
     "text": [
      "/Users/jinxin/anaconda2/lib/python2.7/site-packages/sklearn/cross_validation.py:41: DeprecationWarning: This module was deprecated in version 0.18 in favor of the model_selection module into which all the refactored classes and functions are moved. Also note that the interface of the new CV iterators are different from that of this module. This module will be removed in 0.20.\n",
      "  \"This module will be removed in 0.20.\", DeprecationWarning)\n"
     ]
    }
   ],
   "source": [
    "# preprocessing and wrangling\n",
    "from sklearn.preprocessing import Imputer, StandardScaler\n",
    "import numpy as np\n",
    "import pandas as pd\n",
    "\n",
    "# visualization\n",
    "import matplotlib.pyplot as plt\n",
    "import seaborn as sns\n",
    "import itertools\n",
    "\n",
    "# model\n",
    "from sklearn.linear_model import LinearRegression, Lasso, LogisticRegression\n",
    "from sklearn.ensemble import RandomForestRegressor, ExtraTreesRegressor, GradientBoostingRegressor, ExtraTreesClassifier\n",
    "from xgboost import XGBRegressor\n",
    "from sklearn.model_selection import train_test_split, cross_val_score, GridSearchCV\n",
    "from sklearn.feature_selection import f_regression, SelectKBest\n",
    "from sklearn.externals import joblib\n",
    "from sklearn.cluster import KMeans\n",
    "\n",
    "# pipeline\n",
    "from sklearn.base import BaseEstimator, TransformerMixin\n",
    "from sklearn.pipeline import Pipeline\n",
    "from sklearn.metrics import mean_squared_error, confusion_matrix, classification_report, log_loss\n",
    "\n",
    "# display plots in notebook\n",
    "%matplotlib inline\n",
    "sns.set(style=\"whitegrid\", color_codes=True)\n",
    "params = {'legend.fontsize': 'x-large',\n",
    "          'figure.figsize': (12, 8),\n",
    "         'axes.labelsize': 14,\n",
    "         'axes.titlesize': 20,\n",
    "         'xtick.labelsize': 14,\n",
    "         'ytick.labelsize': 14}\n",
    "plt.rcParams.update(params)"
   ]
  },
  {
   "cell_type": "markdown",
   "metadata": {},
   "source": [
    "## 1. Exploratory Data Analysis\n",
    "### 1.1 Data Overview"
   ]
  },
  {
   "cell_type": "code",
   "execution_count": 2,
   "metadata": {
    "collapsed": true
   },
   "outputs": [],
   "source": [
    "imo = pd.read_csv('imo.csv')\n",
    "edustats = pd.read_csv('edustats.csv')\n",
    "edu_indicators = pd.read_csv('edustats_indicators.csv')"
   ]
  },
  {
   "cell_type": "markdown",
   "metadata": {},
   "source": [
    "First, let's take a look at the first few rows of each dataset:\n",
    "\n",
    "**Summary:** \n",
    "* There are 101 countries in the data set\n",
    "* **edustats** has 365620 samples and it's in \"long\" format so each country has multiple rows. We need to transform it to \"wide\" format so that each country only corresponds to one row"
   ]
  },
  {
   "cell_type": "code",
   "execution_count": 3,
   "metadata": {},
   "outputs": [
    {
     "name": "stdout",
     "output_type": "stream",
     "text": [
      "(101, 2)\n",
      "  Country.Name  Mean.Rank\n",
      "0      Albania      79.83\n",
      "1      Algeria      72.33\n",
      "2    Argentina      50.00\n",
      "3      Armenia      43.88\n",
      "4    Australia      19.75\n",
      "\n",
      "(365620, 3)\n",
      "  Country.Name  Indicator.Code      value\n",
      "0      Albania      UIS.NERA.2  86.577433\n",
      "1      Albania    UIS.NERA.2.F  86.026518\n",
      "2      Albania  UIS.NERA.2.GPI   0.987608\n",
      "3      Albania    UIS.NERA.2.M  87.103674\n",
      "4      Albania     SE.PRM.TENR  93.175414\n",
      "\n",
      "(3620, 2)\n",
      "   Indicator.Code                                     Indicator.Name\n",
      "0      UIS.NERA.2  Adjusted net enrolment rate, lower secondary, ...\n",
      "1    UIS.NERA.2.F  Adjusted net enrolment rate, lower secondary, ...\n",
      "2  UIS.NERA.2.GPI  Adjusted net enrolment rate, lower secondary, ...\n",
      "3    UIS.NERA.2.M  Adjusted net enrolment rate, lower secondary, ...\n",
      "4     SE.PRM.TENR  Adjusted net enrolment rate, primary, both sex...\n"
     ]
    }
   ],
   "source": [
    "print imo.shape\n",
    "print imo.head(5)\n",
    "print ''\n",
    "\n",
    "print edustats.shape\n",
    "print edustats.head(5)\n",
    "print ''\n",
    "\n",
    "print edu_indicators.shape\n",
    "print edu_indicators.head(5)"
   ]
  },
  {
   "cell_type": "markdown",
   "metadata": {},
   "source": [
    "From the table below we see that after transformation, there are 101 samples and 3172 features in the data set. When we have more features than samples, we run into the curse of dimensionality. We will handle this problem in a bit."
   ]
  },
  {
   "cell_type": "code",
   "execution_count": 4,
   "metadata": {
    "scrolled": true
   },
   "outputs": [
    {
     "name": "stdout",
     "output_type": "stream",
     "text": [
      "(101, 3172)\n"
     ]
    },
    {
     "data": {
      "text/html": [
       "<div>\n",
       "<style>\n",
       "    .dataframe thead tr:only-child th {\n",
       "        text-align: right;\n",
       "    }\n",
       "\n",
       "    .dataframe thead th {\n",
       "        text-align: left;\n",
       "    }\n",
       "\n",
       "    .dataframe tbody tr th {\n",
       "        vertical-align: top;\n",
       "    }\n",
       "</style>\n",
       "<table border=\"1\" class=\"dataframe\">\n",
       "  <thead>\n",
       "    <tr style=\"text-align: right;\">\n",
       "      <th>Indicator.Code</th>\n",
       "      <th>Country.Name</th>\n",
       "      <th>BAR.NOED.1519.FE.ZS</th>\n",
       "      <th>BAR.NOED.1519.ZS</th>\n",
       "      <th>BAR.NOED.15UP.FE.ZS</th>\n",
       "      <th>BAR.NOED.15UP.ZS</th>\n",
       "      <th>BAR.NOED.2024.FE.ZS</th>\n",
       "      <th>BAR.NOED.2024.ZS</th>\n",
       "      <th>BAR.NOED.2529.FE.ZS</th>\n",
       "      <th>BAR.NOED.2529.ZS</th>\n",
       "      <th>BAR.NOED.25UP.FE.ZS</th>\n",
       "      <th>...</th>\n",
       "      <th>UIS.XUNIT.US.4.FSGOV</th>\n",
       "      <th>UIS.XUNIT.US.56.FSGOV</th>\n",
       "      <th>UIS.XUNIT.USCONST.1.FSGOV</th>\n",
       "      <th>UIS.XUNIT.USCONST.2.FSGOV</th>\n",
       "      <th>UIS.XUNIT.USCONST.23.FSGOV</th>\n",
       "      <th>UIS.XUNIT.USCONST.3.FSGOV</th>\n",
       "      <th>UIS.XUNIT.USCONST.4.FSGOV</th>\n",
       "      <th>UIS.XUNIT.USCONST.56.FSGOV</th>\n",
       "      <th>XGDP.23.FSGOV.FDINSTADM.FFD</th>\n",
       "      <th>XGDP.56.FSGOV.FDINSTADM.FFD</th>\n",
       "    </tr>\n",
       "  </thead>\n",
       "  <tbody>\n",
       "    <tr>\n",
       "      <th>0</th>\n",
       "      <td>Albania</td>\n",
       "      <td>0.960000</td>\n",
       "      <td>1.146667</td>\n",
       "      <td>3.056667</td>\n",
       "      <td>2.300000</td>\n",
       "      <td>1.190000</td>\n",
       "      <td>1.263333</td>\n",
       "      <td>1.056667</td>\n",
       "      <td>1.126667</td>\n",
       "      <td>3.656667</td>\n",
       "      <td>...</td>\n",
       "      <td>NaN</td>\n",
       "      <td>573.089600</td>\n",
       "      <td>1294.434082</td>\n",
       "      <td>324.860687</td>\n",
       "      <td>258.907440</td>\n",
       "      <td>176.931961</td>\n",
       "      <td>NaN</td>\n",
       "      <td>573.089600</td>\n",
       "      <td>0.701640</td>\n",
       "      <td>0.775850</td>\n",
       "    </tr>\n",
       "    <tr>\n",
       "      <th>1</th>\n",
       "      <td>Algeria</td>\n",
       "      <td>8.536667</td>\n",
       "      <td>6.533333</td>\n",
       "      <td>34.973333</td>\n",
       "      <td>26.296667</td>\n",
       "      <td>11.343333</td>\n",
       "      <td>7.120000</td>\n",
       "      <td>15.546667</td>\n",
       "      <td>10.040000</td>\n",
       "      <td>44.336667</td>\n",
       "      <td>...</td>\n",
       "      <td>NaN</td>\n",
       "      <td>NaN</td>\n",
       "      <td>486.116252</td>\n",
       "      <td>654.020121</td>\n",
       "      <td>794.764160</td>\n",
       "      <td>1034.755646</td>\n",
       "      <td>NaN</td>\n",
       "      <td>NaN</td>\n",
       "      <td>1.821173</td>\n",
       "      <td>NaN</td>\n",
       "    </tr>\n",
       "    <tr>\n",
       "      <th>2</th>\n",
       "      <td>Argentina</td>\n",
       "      <td>0.376667</td>\n",
       "      <td>0.476667</td>\n",
       "      <td>1.956667</td>\n",
       "      <td>1.756667</td>\n",
       "      <td>0.540000</td>\n",
       "      <td>0.600000</td>\n",
       "      <td>0.873333</td>\n",
       "      <td>0.890000</td>\n",
       "      <td>2.423333</td>\n",
       "      <td>...</td>\n",
       "      <td>NaN</td>\n",
       "      <td>1229.963848</td>\n",
       "      <td>1403.893367</td>\n",
       "      <td>1884.196442</td>\n",
       "      <td>1973.816738</td>\n",
       "      <td>2122.200989</td>\n",
       "      <td>NaN</td>\n",
       "      <td>1618.617541</td>\n",
       "      <td>1.626836</td>\n",
       "      <td>0.749662</td>\n",
       "    </tr>\n",
       "    <tr>\n",
       "      <th>3</th>\n",
       "      <td>Armenia</td>\n",
       "      <td>0.160000</td>\n",
       "      <td>0.943333</td>\n",
       "      <td>0.646667</td>\n",
       "      <td>0.566667</td>\n",
       "      <td>0.110000</td>\n",
       "      <td>0.236667</td>\n",
       "      <td>0.110000</td>\n",
       "      <td>0.163333</td>\n",
       "      <td>0.786667</td>\n",
       "      <td>...</td>\n",
       "      <td>NaN</td>\n",
       "      <td>260.542546</td>\n",
       "      <td>486.168045</td>\n",
       "      <td>496.355937</td>\n",
       "      <td>582.714193</td>\n",
       "      <td>712.700195</td>\n",
       "      <td>NaN</td>\n",
       "      <td>261.332761</td>\n",
       "      <td>1.333313</td>\n",
       "      <td>0.228587</td>\n",
       "    </tr>\n",
       "    <tr>\n",
       "      <th>4</th>\n",
       "      <td>Australia</td>\n",
       "      <td>0.136667</td>\n",
       "      <td>0.153333</td>\n",
       "      <td>1.016667</td>\n",
       "      <td>0.903333</td>\n",
       "      <td>0.186667</td>\n",
       "      <td>0.196667</td>\n",
       "      <td>0.313333</td>\n",
       "      <td>0.310000</td>\n",
       "      <td>1.146667</td>\n",
       "      <td>...</td>\n",
       "      <td>4544.608398</td>\n",
       "      <td>9923.463525</td>\n",
       "      <td>11972.454199</td>\n",
       "      <td>11788.698828</td>\n",
       "      <td>11011.268652</td>\n",
       "      <td>10108.025342</td>\n",
       "      <td>6215.607031</td>\n",
       "      <td>13524.003320</td>\n",
       "      <td>1.699275</td>\n",
       "      <td>0.744217</td>\n",
       "    </tr>\n",
       "  </tbody>\n",
       "</table>\n",
       "<p>5 rows × 3172 columns</p>\n",
       "</div>"
      ],
      "text/plain": [
       "Indicator.Code Country.Name  BAR.NOED.1519.FE.ZS  BAR.NOED.1519.ZS  \\\n",
       "0                   Albania             0.960000          1.146667   \n",
       "1                   Algeria             8.536667          6.533333   \n",
       "2                 Argentina             0.376667          0.476667   \n",
       "3                   Armenia             0.160000          0.943333   \n",
       "4                 Australia             0.136667          0.153333   \n",
       "\n",
       "Indicator.Code  BAR.NOED.15UP.FE.ZS  BAR.NOED.15UP.ZS  BAR.NOED.2024.FE.ZS  \\\n",
       "0                          3.056667          2.300000             1.190000   \n",
       "1                         34.973333         26.296667            11.343333   \n",
       "2                          1.956667          1.756667             0.540000   \n",
       "3                          0.646667          0.566667             0.110000   \n",
       "4                          1.016667          0.903333             0.186667   \n",
       "\n",
       "Indicator.Code  BAR.NOED.2024.ZS  BAR.NOED.2529.FE.ZS  BAR.NOED.2529.ZS  \\\n",
       "0                       1.263333             1.056667          1.126667   \n",
       "1                       7.120000            15.546667         10.040000   \n",
       "2                       0.600000             0.873333          0.890000   \n",
       "3                       0.236667             0.110000          0.163333   \n",
       "4                       0.196667             0.313333          0.310000   \n",
       "\n",
       "Indicator.Code  BAR.NOED.25UP.FE.ZS             ...               \\\n",
       "0                          3.656667             ...                \n",
       "1                         44.336667             ...                \n",
       "2                          2.423333             ...                \n",
       "3                          0.786667             ...                \n",
       "4                          1.146667             ...                \n",
       "\n",
       "Indicator.Code  UIS.XUNIT.US.4.FSGOV  UIS.XUNIT.US.56.FSGOV  \\\n",
       "0                                NaN             573.089600   \n",
       "1                                NaN                    NaN   \n",
       "2                                NaN            1229.963848   \n",
       "3                                NaN             260.542546   \n",
       "4                        4544.608398            9923.463525   \n",
       "\n",
       "Indicator.Code  UIS.XUNIT.USCONST.1.FSGOV  UIS.XUNIT.USCONST.2.FSGOV  \\\n",
       "0                             1294.434082                 324.860687   \n",
       "1                              486.116252                 654.020121   \n",
       "2                             1403.893367                1884.196442   \n",
       "3                              486.168045                 496.355937   \n",
       "4                            11972.454199               11788.698828   \n",
       "\n",
       "Indicator.Code  UIS.XUNIT.USCONST.23.FSGOV  UIS.XUNIT.USCONST.3.FSGOV  \\\n",
       "0                               258.907440                 176.931961   \n",
       "1                               794.764160                1034.755646   \n",
       "2                              1973.816738                2122.200989   \n",
       "3                               582.714193                 712.700195   \n",
       "4                             11011.268652               10108.025342   \n",
       "\n",
       "Indicator.Code  UIS.XUNIT.USCONST.4.FSGOV  UIS.XUNIT.USCONST.56.FSGOV  \\\n",
       "0                                     NaN                  573.089600   \n",
       "1                                     NaN                         NaN   \n",
       "2                                     NaN                 1618.617541   \n",
       "3                                     NaN                  261.332761   \n",
       "4                             6215.607031                13524.003320   \n",
       "\n",
       "Indicator.Code  XGDP.23.FSGOV.FDINSTADM.FFD  XGDP.56.FSGOV.FDINSTADM.FFD  \n",
       "0                                  0.701640                     0.775850  \n",
       "1                                  1.821173                          NaN  \n",
       "2                                  1.626836                     0.749662  \n",
       "3                                  1.333313                     0.228587  \n",
       "4                                  1.699275                     0.744217  \n",
       "\n",
       "[5 rows x 3172 columns]"
      ]
     },
     "execution_count": 4,
     "metadata": {},
     "output_type": "execute_result"
    }
   ],
   "source": [
    "# transform the data from long to wide\n",
    "edustats_wide = edustats.pivot_table(index='Country.Name', \\\n",
    "                               columns='Indicator.Code', \\\n",
    "                               values='value').reset_index(inplace=False)\n",
    "print edustats_wide.shape\n",
    "edustats_wide.head(5)"
   ]
  },
  {
   "cell_type": "markdown",
   "metadata": {},
   "source": [
    "It's also important to check data type, from the plot below we see that almost all features are numerical."
   ]
  },
  {
   "cell_type": "code",
   "execution_count": 5,
   "metadata": {},
   "outputs": [
    {
     "data": {
      "image/png": "[encoded data removed]",
      "text/plain": [
       "<matplotlib.figure.Figure at 0x10d2fbed0>"
      ]
     },
     "metadata": {},
     "output_type": "display_data"
    }
   ],
   "source": [
    "def plot_dtype_distribution(df):\n",
    "    \"\"\"\n",
    "    df: pandas dataframe\n",
    "    this function plots a distribution of data types from the input dataframe\n",
    "    \"\"\"\n",
    "    \n",
    "    dataTypeDf = pd.DataFrame(df.dtypes.value_counts()).reset_index().rename(columns={'index':'Variable type', 0:'Count'})    \n",
    "    dataTypeDf.plot(kind='bar', x='Variable type', y='Count', legend=None, title='Variables Count Across Datatype')\n",
    "\n",
    "plot_dtype_distribution(edustats_wide)"
   ]
  },
  {
   "cell_type": "markdown",
   "metadata": {},
   "source": [
    "Let's also look at summary statistics of features. We can see that features are of different scales. We should normalize/standardize them if we want to use linear models or principal component analysis."
   ]
  },
  {
   "cell_type": "code",
   "execution_count": 6,
   "metadata": {},
   "outputs": [
    {
     "data": {
      "text/html": [
       "<div>\n",
       "<style>\n",
       "    .dataframe thead tr:only-child th {\n",
       "        text-align: right;\n",
       "    }\n",
       "\n",
       "    .dataframe thead th {\n",
       "        text-align: left;\n",
       "    }\n",
       "\n",
       "    .dataframe tbody tr th {\n",
       "        vertical-align: top;\n",
       "    }\n",
       "</style>\n",
       "<table border=\"1\" class=\"dataframe\">\n",
       "  <thead>\n",
       "    <tr style=\"text-align: right;\">\n",
       "      <th>Indicator.Code</th>\n",
       "      <th>BAR.NOED.1519.FE.ZS</th>\n",
       "      <th>BAR.NOED.1519.ZS</th>\n",
       "      <th>BAR.NOED.15UP.FE.ZS</th>\n",
       "      <th>BAR.NOED.15UP.ZS</th>\n",
       "      <th>BAR.NOED.2024.FE.ZS</th>\n",
       "      <th>BAR.NOED.2024.ZS</th>\n",
       "      <th>BAR.NOED.2529.FE.ZS</th>\n",
       "      <th>BAR.NOED.2529.ZS</th>\n",
       "      <th>BAR.NOED.25UP.FE.ZS</th>\n",
       "      <th>BAR.NOED.25UP.ZS</th>\n",
       "      <th>...</th>\n",
       "      <th>UIS.XUNIT.US.4.FSGOV</th>\n",
       "      <th>UIS.XUNIT.US.56.FSGOV</th>\n",
       "      <th>UIS.XUNIT.USCONST.1.FSGOV</th>\n",
       "      <th>UIS.XUNIT.USCONST.2.FSGOV</th>\n",
       "      <th>UIS.XUNIT.USCONST.23.FSGOV</th>\n",
       "      <th>UIS.XUNIT.USCONST.3.FSGOV</th>\n",
       "      <th>UIS.XUNIT.USCONST.4.FSGOV</th>\n",
       "      <th>UIS.XUNIT.USCONST.56.FSGOV</th>\n",
       "      <th>XGDP.23.FSGOV.FDINSTADM.FFD</th>\n",
       "      <th>XGDP.56.FSGOV.FDINSTADM.FFD</th>\n",
       "    </tr>\n",
       "  </thead>\n",
       "  <tbody>\n",
       "    <tr>\n",
       "      <th>count</th>\n",
       "      <td>90.000000</td>\n",
       "      <td>90.000000</td>\n",
       "      <td>90.000000</td>\n",
       "      <td>90.000000</td>\n",
       "      <td>90.000000</td>\n",
       "      <td>90.000000</td>\n",
       "      <td>90.000000</td>\n",
       "      <td>90.000000</td>\n",
       "      <td>90.000000</td>\n",
       "      <td>90.000000</td>\n",
       "      <td>...</td>\n",
       "      <td>46.000000</td>\n",
       "      <td>84.000000</td>\n",
       "      <td>81.000000</td>\n",
       "      <td>73.000000</td>\n",
       "      <td>82.000000</td>\n",
       "      <td>76.000000</td>\n",
       "      <td>45.000000</td>\n",
       "      <td>83.000000</td>\n",
       "      <td>84.000000</td>\n",
       "      <td>86.000000</td>\n",
       "    </tr>\n",
       "    <tr>\n",
       "      <th>mean</th>\n",
       "      <td>5.038444</td>\n",
       "      <td>4.687037</td>\n",
       "      <td>12.248185</td>\n",
       "      <td>9.885444</td>\n",
       "      <td>5.683741</td>\n",
       "      <td>4.791741</td>\n",
       "      <td>7.181815</td>\n",
       "      <td>5.967222</td>\n",
       "      <td>14.977259</td>\n",
       "      <td>12.004963</td>\n",
       "      <td>...</td>\n",
       "      <td>5939.383170</td>\n",
       "      <td>5014.422605</td>\n",
       "      <td>3949.242702</td>\n",
       "      <td>4851.684348</td>\n",
       "      <td>4827.408515</td>\n",
       "      <td>5530.945210</td>\n",
       "      <td>6629.969017</td>\n",
       "      <td>6080.045777</td>\n",
       "      <td>1.677939</td>\n",
       "      <td>0.893207</td>\n",
       "    </tr>\n",
       "    <tr>\n",
       "      <th>std</th>\n",
       "      <td>8.544990</td>\n",
       "      <td>7.509071</td>\n",
       "      <td>14.931370</td>\n",
       "      <td>11.737127</td>\n",
       "      <td>9.619186</td>\n",
       "      <td>7.423891</td>\n",
       "      <td>11.967049</td>\n",
       "      <td>9.166875</td>\n",
       "      <td>18.293580</td>\n",
       "      <td>14.395615</td>\n",
       "      <td>...</td>\n",
       "      <td>14053.987688</td>\n",
       "      <td>6696.599225</td>\n",
       "      <td>5052.398964</td>\n",
       "      <td>5846.536225</td>\n",
       "      <td>6070.120692</td>\n",
       "      <td>6938.768145</td>\n",
       "      <td>13995.552524</td>\n",
       "      <td>8616.212802</td>\n",
       "      <td>0.672556</td>\n",
       "      <td>0.418930</td>\n",
       "    </tr>\n",
       "    <tr>\n",
       "      <th>min</th>\n",
       "      <td>0.080000</td>\n",
       "      <td>0.100000</td>\n",
       "      <td>0.176667</td>\n",
       "      <td>0.153333</td>\n",
       "      <td>0.070000</td>\n",
       "      <td>0.076667</td>\n",
       "      <td>0.056667</td>\n",
       "      <td>0.070000</td>\n",
       "      <td>0.106667</td>\n",
       "      <td>0.120000</td>\n",
       "      <td>...</td>\n",
       "      <td>94.867249</td>\n",
       "      <td>90.290766</td>\n",
       "      <td>39.848710</td>\n",
       "      <td>51.972087</td>\n",
       "      <td>30.590290</td>\n",
       "      <td>29.040550</td>\n",
       "      <td>171.727395</td>\n",
       "      <td>121.073287</td>\n",
       "      <td>0.417070</td>\n",
       "      <td>0.180955</td>\n",
       "    </tr>\n",
       "    <tr>\n",
       "      <th>25%</th>\n",
       "      <td>0.482500</td>\n",
       "      <td>0.641667</td>\n",
       "      <td>1.935833</td>\n",
       "      <td>1.774167</td>\n",
       "      <td>0.515000</td>\n",
       "      <td>0.601667</td>\n",
       "      <td>0.454167</td>\n",
       "      <td>0.518333</td>\n",
       "      <td>2.029167</td>\n",
       "      <td>1.807500</td>\n",
       "      <td>...</td>\n",
       "      <td>951.863380</td>\n",
       "      <td>809.101412</td>\n",
       "      <td>441.181860</td>\n",
       "      <td>496.355937</td>\n",
       "      <td>545.348226</td>\n",
       "      <td>821.425841</td>\n",
       "      <td>1269.375203</td>\n",
       "      <td>1026.796171</td>\n",
       "      <td>1.243655</td>\n",
       "      <td>0.631653</td>\n",
       "    </tr>\n",
       "    <tr>\n",
       "      <th>50%</th>\n",
       "      <td>1.733333</td>\n",
       "      <td>1.995000</td>\n",
       "      <td>6.638333</td>\n",
       "      <td>5.110000</td>\n",
       "      <td>2.043333</td>\n",
       "      <td>1.961667</td>\n",
       "      <td>2.296667</td>\n",
       "      <td>2.273333</td>\n",
       "      <td>7.840000</td>\n",
       "      <td>6.093333</td>\n",
       "      <td>...</td>\n",
       "      <td>2425.035532</td>\n",
       "      <td>1850.873396</td>\n",
       "      <td>1403.893367</td>\n",
       "      <td>1923.322716</td>\n",
       "      <td>1909.202449</td>\n",
       "      <td>2040.562310</td>\n",
       "      <td>2873.496826</td>\n",
       "      <td>2249.654989</td>\n",
       "      <td>1.673550</td>\n",
       "      <td>0.877921</td>\n",
       "    </tr>\n",
       "    <tr>\n",
       "      <th>75%</th>\n",
       "      <td>3.884167</td>\n",
       "      <td>4.577500</td>\n",
       "      <td>14.992500</td>\n",
       "      <td>13.278333</td>\n",
       "      <td>6.079167</td>\n",
       "      <td>5.040833</td>\n",
       "      <td>7.952500</td>\n",
       "      <td>7.393333</td>\n",
       "      <td>19.790000</td>\n",
       "      <td>16.027500</td>\n",
       "      <td>...</td>\n",
       "      <td>5437.560897</td>\n",
       "      <td>7418.064899</td>\n",
       "      <td>6843.639997</td>\n",
       "      <td>8937.270368</td>\n",
       "      <td>7730.134917</td>\n",
       "      <td>9613.150963</td>\n",
       "      <td>6876.135254</td>\n",
       "      <td>8144.401164</td>\n",
       "      <td>2.058260</td>\n",
       "      <td>1.063856</td>\n",
       "    </tr>\n",
       "    <tr>\n",
       "      <th>max</th>\n",
       "      <td>43.713333</td>\n",
       "      <td>38.043333</td>\n",
       "      <td>63.956667</td>\n",
       "      <td>50.196667</td>\n",
       "      <td>52.410000</td>\n",
       "      <td>40.130000</td>\n",
       "      <td>60.610000</td>\n",
       "      <td>45.000000</td>\n",
       "      <td>73.586667</td>\n",
       "      <td>58.113333</td>\n",
       "      <td>...</td>\n",
       "      <td>87936.401042</td>\n",
       "      <td>30827.647380</td>\n",
       "      <td>25239.483073</td>\n",
       "      <td>23587.346191</td>\n",
       "      <td>28208.284961</td>\n",
       "      <td>33546.617969</td>\n",
       "      <td>83716.473958</td>\n",
       "      <td>45888.410156</td>\n",
       "      <td>3.764303</td>\n",
       "      <td>2.126210</td>\n",
       "    </tr>\n",
       "  </tbody>\n",
       "</table>\n",
       "<p>8 rows × 3171 columns</p>\n",
       "</div>"
      ],
      "text/plain": [
       "Indicator.Code  BAR.NOED.1519.FE.ZS  BAR.NOED.1519.ZS  BAR.NOED.15UP.FE.ZS  \\\n",
       "count                     90.000000         90.000000            90.000000   \n",
       "mean                       5.038444          4.687037            12.248185   \n",
       "std                        8.544990          7.509071            14.931370   \n",
       "min                        0.080000          0.100000             0.176667   \n",
       "25%                        0.482500          0.641667             1.935833   \n",
       "50%                        1.733333          1.995000             6.638333   \n",
       "75%                        3.884167          4.577500            14.992500   \n",
       "max                       43.713333         38.043333            63.956667   \n",
       "\n",
       "Indicator.Code  BAR.NOED.15UP.ZS  BAR.NOED.2024.FE.ZS  BAR.NOED.2024.ZS  \\\n",
       "count                  90.000000            90.000000         90.000000   \n",
       "mean                    9.885444             5.683741          4.791741   \n",
       "std                    11.737127             9.619186          7.423891   \n",
       "min                     0.153333             0.070000          0.076667   \n",
       "25%                     1.774167             0.515000          0.601667   \n",
       "50%                     5.110000             2.043333          1.961667   \n",
       "75%                    13.278333             6.079167          5.040833   \n",
       "max                    50.196667            52.410000         40.130000   \n",
       "\n",
       "Indicator.Code  BAR.NOED.2529.FE.ZS  BAR.NOED.2529.ZS  BAR.NOED.25UP.FE.ZS  \\\n",
       "count                     90.000000         90.000000            90.000000   \n",
       "mean                       7.181815          5.967222            14.977259   \n",
       "std                       11.967049          9.166875            18.293580   \n",
       "min                        0.056667          0.070000             0.106667   \n",
       "25%                        0.454167          0.518333             2.029167   \n",
       "50%                        2.296667          2.273333             7.840000   \n",
       "75%                        7.952500          7.393333            19.790000   \n",
       "max                       60.610000         45.000000            73.586667   \n",
       "\n",
       "Indicator.Code  BAR.NOED.25UP.ZS             ...               \\\n",
       "count                  90.000000             ...                \n",
       "mean                   12.004963             ...                \n",
       "std                    14.395615             ...                \n",
       "min                     0.120000             ...                \n",
       "25%                     1.807500             ...                \n",
       "50%                     6.093333             ...                \n",
       "75%                    16.027500             ...                \n",
       "max                    58.113333             ...                \n",
       "\n",
       "Indicator.Code  UIS.XUNIT.US.4.FSGOV  UIS.XUNIT.US.56.FSGOV  \\\n",
       "count                      46.000000              84.000000   \n",
       "mean                     5939.383170            5014.422605   \n",
       "std                     14053.987688            6696.599225   \n",
       "min                        94.867249              90.290766   \n",
       "25%                       951.863380             809.101412   \n",
       "50%                      2425.035532            1850.873396   \n",
       "75%                      5437.560897            7418.064899   \n",
       "max                     87936.401042           30827.647380   \n",
       "\n",
       "Indicator.Code  UIS.XUNIT.USCONST.1.FSGOV  UIS.XUNIT.USCONST.2.FSGOV  \\\n",
       "count                           81.000000                  73.000000   \n",
       "mean                          3949.242702                4851.684348   \n",
       "std                           5052.398964                5846.536225   \n",
       "min                             39.848710                  51.972087   \n",
       "25%                            441.181860                 496.355937   \n",
       "50%                           1403.893367                1923.322716   \n",
       "75%                           6843.639997                8937.270368   \n",
       "max                          25239.483073               23587.346191   \n",
       "\n",
       "Indicator.Code  UIS.XUNIT.USCONST.23.FSGOV  UIS.XUNIT.USCONST.3.FSGOV  \\\n",
       "count                            82.000000                  76.000000   \n",
       "mean                           4827.408515                5530.945210   \n",
       "std                            6070.120692                6938.768145   \n",
       "min                              30.590290                  29.040550   \n",
       "25%                             545.348226                 821.425841   \n",
       "50%                            1909.202449                2040.562310   \n",
       "75%                            7730.134917                9613.150963   \n",
       "max                           28208.284961               33546.617969   \n",
       "\n",
       "Indicator.Code  UIS.XUNIT.USCONST.4.FSGOV  UIS.XUNIT.USCONST.56.FSGOV  \\\n",
       "count                           45.000000                   83.000000   \n",
       "mean                          6629.969017                 6080.045777   \n",
       "std                          13995.552524                 8616.212802   \n",
       "min                            171.727395                  121.073287   \n",
       "25%                           1269.375203                 1026.796171   \n",
       "50%                           2873.496826                 2249.654989   \n",
       "75%                           6876.135254                 8144.401164   \n",
       "max                          83716.473958                45888.410156   \n",
       "\n",
       "Indicator.Code  XGDP.23.FSGOV.FDINSTADM.FFD  XGDP.56.FSGOV.FDINSTADM.FFD  \n",
       "count                             84.000000                    86.000000  \n",
       "mean                               1.677939                     0.893207  \n",
       "std                                0.672556                     0.418930  \n",
       "min                                0.417070                     0.180955  \n",
       "25%                                1.243655                     0.631653  \n",
       "50%                                1.673550                     0.877921  \n",
       "75%                                2.058260                     1.063856  \n",
       "max                                3.764303                     2.126210  \n",
       "\n",
       "[8 rows x 3171 columns]"
      ]
     },
     "execution_count": 6,
     "metadata": {},
     "output_type": "execute_result"
    }
   ],
   "source": [
    "edustats_wide.describe()"
   ]
  },
  {
   "cell_type": "markdown",
   "metadata": {},
   "source": [
    "Finally, let's look at the distribution of the response variable **Mean.Rank**. There doesn't seem to be any outliers. The distribution is neither normal nor uniform."
   ]
  },
  {
   "cell_type": "code",
   "execution_count": 7,
   "metadata": {},
   "outputs": [
    {
     "data": {
      "image/png": "[encoded data removed]",
      "text/plain": [
       "<matplotlib.figure.Figure at 0x113d19810>"
      ]
     },
     "metadata": {},
     "output_type": "display_data"
    }
   ],
   "source": [
    "imo.hist();"
   ]
  },
  {
   "cell_type": "markdown",
   "metadata": {},
   "source": [
    "### 1.2 Missing Value Information\n",
    "After getting an initial sense of the data, now let's check if there are missing values in the data."
   ]
  },
  {
   "cell_type": "code",
   "execution_count": 8,
   "metadata": {
    "collapsed": true
   },
   "outputs": [],
   "source": [
    "def get_missing_info(df):\n",
    "    \"\"\"\n",
    "    df: pandas dataframe\n",
    "    return: dataframe of count and percentage of missing value for \n",
    "            each column in the input dataframe\n",
    "    \"\"\"\n",
    "    missing_ct = pd.DataFrame(df.isnull().sum()).reset_index().rename(columns={'index':'Feature Name', 0:'Count'})\n",
    "    missing_ct['Percentage'] = (missing_ct['Count'] / len(df)) * 100\n",
    "    return missing_ct.sort_values('Count', ascending=False)"
   ]
  },
  {
   "cell_type": "markdown",
   "metadata": {},
   "source": [
    "By looking at the top 25 columns with most missing values, we found that these columns have 99% of values being missing. Features like this won't provide any information/usefullness in modeling. We should remove such features."
   ]
  },
  {
   "cell_type": "code",
   "execution_count": 9,
   "metadata": {},
   "outputs": [
    {
     "data": {
      "text/html": [
       "<div>\n",
       "<style>\n",
       "    .dataframe thead tr:only-child th {\n",
       "        text-align: right;\n",
       "    }\n",
       "\n",
       "    .dataframe thead th {\n",
       "        text-align: left;\n",
       "    }\n",
       "\n",
       "    .dataframe tbody tr th {\n",
       "        vertical-align: top;\n",
       "    }\n",
       "</style>\n",
       "<table border=\"1\" class=\"dataframe\">\n",
       "  <thead>\n",
       "    <tr style=\"text-align: right;\">\n",
       "      <th></th>\n",
       "      <th>Indicator.Code</th>\n",
       "      <th>Count</th>\n",
       "      <th>Percentage</th>\n",
       "    </tr>\n",
       "  </thead>\n",
       "  <tbody>\n",
       "    <tr>\n",
       "      <th>658</th>\n",
       "      <td>LO.EGRA.CWPM.ZERO.NZE.2GRD</td>\n",
       "      <td>100</td>\n",
       "      <td>99.009901</td>\n",
       "    </tr>\n",
       "    <tr>\n",
       "      <th>711</th>\n",
       "      <td>LO.EGRA.ORF.ARB.3GRD</td>\n",
       "      <td>100</td>\n",
       "      <td>99.009901</td>\n",
       "    </tr>\n",
       "    <tr>\n",
       "      <th>1613</th>\n",
       "      <td>SABER.HLTH.GOAL3</td>\n",
       "      <td>100</td>\n",
       "      <td>99.009901</td>\n",
       "    </tr>\n",
       "    <tr>\n",
       "      <th>1612</th>\n",
       "      <td>SABER.HLTH.GOAL2</td>\n",
       "      <td>100</td>\n",
       "      <td>99.009901</td>\n",
       "    </tr>\n",
       "    <tr>\n",
       "      <th>1611</th>\n",
       "      <td>SABER.HLTH.GOAL1</td>\n",
       "      <td>100</td>\n",
       "      <td>99.009901</td>\n",
       "    </tr>\n",
       "    <tr>\n",
       "      <th>712</th>\n",
       "      <td>LO.EGRA.ORF.AST.2GRD</td>\n",
       "      <td>100</td>\n",
       "      <td>99.009901</td>\n",
       "    </tr>\n",
       "    <tr>\n",
       "      <th>713</th>\n",
       "      <td>LO.EGRA.ORF.DAG.2GRD</td>\n",
       "      <td>100</td>\n",
       "      <td>99.009901</td>\n",
       "    </tr>\n",
       "    <tr>\n",
       "      <th>714</th>\n",
       "      <td>LO.EGRA.ORF.DAGB.2GRD</td>\n",
       "      <td>100</td>\n",
       "      <td>99.009901</td>\n",
       "    </tr>\n",
       "    <tr>\n",
       "      <th>771</th>\n",
       "      <td>LO.EGRA.READ.SPN.ADV.4GRD</td>\n",
       "      <td>100</td>\n",
       "      <td>99.009901</td>\n",
       "    </tr>\n",
       "    <tr>\n",
       "      <th>715</th>\n",
       "      <td>LO.EGRA.ORF.DAN.2GRD</td>\n",
       "      <td>100</td>\n",
       "      <td>99.009901</td>\n",
       "    </tr>\n",
       "    <tr>\n",
       "      <th>770</th>\n",
       "      <td>LO.EGRA.READ.SPN.ADV.3GRD</td>\n",
       "      <td>100</td>\n",
       "      <td>99.009901</td>\n",
       "    </tr>\n",
       "    <tr>\n",
       "      <th>769</th>\n",
       "      <td>LO.EGRA.READ.SPN.ADV.2GRD</td>\n",
       "      <td>100</td>\n",
       "      <td>99.009901</td>\n",
       "    </tr>\n",
       "    <tr>\n",
       "      <th>717</th>\n",
       "      <td>LO.EGRA.ORF.ENG.3GRD</td>\n",
       "      <td>100</td>\n",
       "      <td>99.009901</td>\n",
       "    </tr>\n",
       "    <tr>\n",
       "      <th>718</th>\n",
       "      <td>LO.EGRA.ORF.EWE.2GRD</td>\n",
       "      <td>100</td>\n",
       "      <td>99.009901</td>\n",
       "    </tr>\n",
       "    <tr>\n",
       "      <th>2214</th>\n",
       "      <td>UIS.AFR.TATTRR.2.PU.T</td>\n",
       "      <td>100</td>\n",
       "      <td>99.009901</td>\n",
       "    </tr>\n",
       "    <tr>\n",
       "      <th>719</th>\n",
       "      <td>LO.EGRA.ORF.FAN.2GRD</td>\n",
       "      <td>100</td>\n",
       "      <td>99.009901</td>\n",
       "    </tr>\n",
       "    <tr>\n",
       "      <th>768</th>\n",
       "      <td>LO.EGRA.READ.NZE.ADV.2GRD</td>\n",
       "      <td>100</td>\n",
       "      <td>99.009901</td>\n",
       "    </tr>\n",
       "    <tr>\n",
       "      <th>767</th>\n",
       "      <td>LO.EGRA.READ.KIS.ADV.2GRD</td>\n",
       "      <td>100</td>\n",
       "      <td>99.009901</td>\n",
       "    </tr>\n",
       "    <tr>\n",
       "      <th>720</th>\n",
       "      <td>LO.EGRA.ORF.FLP.3GRD</td>\n",
       "      <td>100</td>\n",
       "      <td>99.009901</td>\n",
       "    </tr>\n",
       "    <tr>\n",
       "      <th>721</th>\n",
       "      <td>LO.EGRA.ORF.GA.2GRD</td>\n",
       "      <td>100</td>\n",
       "      <td>99.009901</td>\n",
       "    </tr>\n",
       "    <tr>\n",
       "      <th>722</th>\n",
       "      <td>LO.EGRA.ORF.GON.2GRD</td>\n",
       "      <td>100</td>\n",
       "      <td>99.009901</td>\n",
       "    </tr>\n",
       "    <tr>\n",
       "      <th>723</th>\n",
       "      <td>LO.EGRA.ORF.IND.2GRD</td>\n",
       "      <td>100</td>\n",
       "      <td>99.009901</td>\n",
       "    </tr>\n",
       "    <tr>\n",
       "      <th>724</th>\n",
       "      <td>LO.EGRA.ORF.KAS.2GRD</td>\n",
       "      <td>100</td>\n",
       "      <td>99.009901</td>\n",
       "    </tr>\n",
       "    <tr>\n",
       "      <th>1614</th>\n",
       "      <td>SABER.HLTH.GOAL4</td>\n",
       "      <td>100</td>\n",
       "      <td>99.009901</td>\n",
       "    </tr>\n",
       "    <tr>\n",
       "      <th>710</th>\n",
       "      <td>LO.EGRA.ORF.ARB.2GRD</td>\n",
       "      <td>100</td>\n",
       "      <td>99.009901</td>\n",
       "    </tr>\n",
       "  </tbody>\n",
       "</table>\n",
       "</div>"
      ],
      "text/plain": [
       "                  Indicator.Code  Count  Percentage\n",
       "658   LO.EGRA.CWPM.ZERO.NZE.2GRD    100   99.009901\n",
       "711         LO.EGRA.ORF.ARB.3GRD    100   99.009901\n",
       "1613            SABER.HLTH.GOAL3    100   99.009901\n",
       "1612            SABER.HLTH.GOAL2    100   99.009901\n",
       "1611            SABER.HLTH.GOAL1    100   99.009901\n",
       "712         LO.EGRA.ORF.AST.2GRD    100   99.009901\n",
       "713         LO.EGRA.ORF.DAG.2GRD    100   99.009901\n",
       "714        LO.EGRA.ORF.DAGB.2GRD    100   99.009901\n",
       "771    LO.EGRA.READ.SPN.ADV.4GRD    100   99.009901\n",
       "715         LO.EGRA.ORF.DAN.2GRD    100   99.009901\n",
       "770    LO.EGRA.READ.SPN.ADV.3GRD    100   99.009901\n",
       "769    LO.EGRA.READ.SPN.ADV.2GRD    100   99.009901\n",
       "717         LO.EGRA.ORF.ENG.3GRD    100   99.009901\n",
       "718         LO.EGRA.ORF.EWE.2GRD    100   99.009901\n",
       "2214       UIS.AFR.TATTRR.2.PU.T    100   99.009901\n",
       "719         LO.EGRA.ORF.FAN.2GRD    100   99.009901\n",
       "768    LO.EGRA.READ.NZE.ADV.2GRD    100   99.009901\n",
       "767    LO.EGRA.READ.KIS.ADV.2GRD    100   99.009901\n",
       "720         LO.EGRA.ORF.FLP.3GRD    100   99.009901\n",
       "721          LO.EGRA.ORF.GA.2GRD    100   99.009901\n",
       "722         LO.EGRA.ORF.GON.2GRD    100   99.009901\n",
       "723         LO.EGRA.ORF.IND.2GRD    100   99.009901\n",
       "724         LO.EGRA.ORF.KAS.2GRD    100   99.009901\n",
       "1614            SABER.HLTH.GOAL4    100   99.009901\n",
       "710         LO.EGRA.ORF.ARB.2GRD    100   99.009901"
      ]
     },
     "execution_count": 9,
     "metadata": {},
     "output_type": "execute_result"
    }
   ],
   "source": [
    "get_missing_info(edustats_wide).head(25)"
   ]
  },
  {
   "cell_type": "markdown",
   "metadata": {},
   "source": [
    "I decided to remove features with more 5% missing values. This means for each feature, we only allow at most 5-6 missing values. I'm being strict here because we only have 101 samples.\n",
    "\n",
    "After feature removal, the number of features is reduced from 3172 to 691. We have reduced the dimension of the dataset by a lot."
   ]
  },
  {
   "cell_type": "code",
   "execution_count": 10,
   "metadata": {},
   "outputs": [
    {
     "name": "stdout",
     "output_type": "stream",
     "text": [
      "(101, 691)\n"
     ]
    }
   ],
   "source": [
    "edustats_dropna = edustats_wide.dropna(axis=1, thresh=0.95*len(edustats_wide))\n",
    "print edustats_dropna.shape"
   ]
  },
  {
   "cell_type": "markdown",
   "metadata": {},
   "source": [
    "## 1.3 Training and Test Set Split\n",
    "\n",
    "Before we continue our exploratory data analysis, let's split the raw data set into training and test. In this way, the test set is treated as unseen data which we will use to test model performance.\n",
    "\n",
    "The training set has 80 samples - 80% of the samples from the unsplitted data set. The test set has the rest 20% samples."
   ]
  },
  {
   "cell_type": "code",
   "execution_count": 11,
   "metadata": {},
   "outputs": [
    {
     "name": "stdout",
     "output_type": "stream",
     "text": [
      "(80, 691) (21, 691)\n"
     ]
    }
   ],
   "source": [
    "# join label (mean ranking) and features\n",
    "merged_df = imo.merge(edustats_dropna, how='inner', on='Country.Name')\n",
    "\n",
    "X_train, X_test, y_train, y_test = train_test_split(merged_df.drop('Mean.Rank', axis=1), merged_df['Mean.Rank'], \\\n",
    "                                                    test_size=0.2, random_state=42)\n",
    "X_train, X_test, y_train, y_test = X_train.reset_index(drop=True), X_test.reset_index(drop=True), \\\n",
    "                                   y_train.reset_index(drop=True), y_test.reset_index(drop=True)\n",
    "    \n",
    "data_with_y = pd.concat([y_train, X_train], axis=1) # this dataframe facilitates exploratory data analysis\n",
    "print X_train.shape, X_test.shape"
   ]
  },
  {
   "cell_type": "markdown",
   "metadata": {},
   "source": [
    "## 1.4 Correlation Exploration\n",
    "\n",
    "From the table below, we can see that many features have above 0.4 (or below -0.4) correlation with **Mean.Rank**. However, many of these features belong to the same feature group. For example, features named as **PRJ.ATT.xxx** all belong to **Wittgenstein Projection: Percentage of the population age xx-xx by highest level of educational attainment**. As a result, we might also want to see if features are correlated with each other."
   ]
  },
  {
   "cell_type": "code",
   "execution_count": 12,
   "metadata": {},
   "outputs": [
    {
     "data": {
      "text/plain": [
       "Mean.Rank              1.000000\n",
       "SP.POP.0014.TO.ZS      0.506133\n",
       "PRJ.ATT.1519.S1.FE     0.455383\n",
       "PRJ.ATT.1519.S1.MF     0.450306\n",
       "PRJ.ATT.2024.S1.FE     0.446034\n",
       "PRJ.ATT.1519.S1.MA     0.445480\n",
       "PRJ.ATT.1519.NED.MA    0.444523\n",
       "PRJ.ATT.2024.S1.MF     0.441554\n",
       "PRJ.ATT.2024.S1.MA     0.431631\n",
       "PRJ.ATT.4064.NED.MA    0.424922\n",
       "PRJ.ATT.2529.NED.MA    0.422732\n",
       "PRJ.ATT.2064.NED.MA    0.419293\n",
       "PRJ.ATT.2024.NED.MA    0.418941\n",
       "PRJ.ATT.4064.NED.MF    0.416280\n",
       "PRJ.ATT.25UP.NED.MA    0.413297\n",
       "Name: Mean.Rank, dtype: float64"
      ]
     },
     "execution_count": 12,
     "metadata": {},
     "output_type": "execute_result"
    }
   ],
   "source": [
    "corr_matrix = data_with_y.corr()\n",
    "corr_matrix['Mean.Rank'].sort_values(ascending=False).head(15)"
   ]
  },
  {
   "cell_type": "code",
   "execution_count": 13,
   "metadata": {},
   "outputs": [
    {
     "data": {
      "text/plain": [
       "SE.SEC.ENRR.MA       -0.430124\n",
       "PRJ.MYS.1519.FE      -0.432764\n",
       "PRJ.MYS.1519.MA      -0.432866\n",
       "PRJ.MYS.1519.MF      -0.436973\n",
       "UIS.TE_100000.56     -0.444438\n",
       "PRJ.ATT.1519.3.MA    -0.447346\n",
       "SE.TER.ENRR.MA       -0.459361\n",
       "UIS.SLE.56.M         -0.467207\n",
       "PRJ.ATT.1519.3.MF    -0.475149\n",
       "PRJ.ATT.1519.3.FE    -0.484438\n",
       "UIS.TE_100000.56.M   -0.491650\n",
       "PRJ.MYS.0T19.MA      -0.498794\n",
       "PRJ.MYS.0T19.FE      -0.511435\n",
       "PRJ.MYS.0T19.MF      -0.518640\n",
       "SP.POP.1564.TO.ZS    -0.560313\n",
       "Name: Mean.Rank, dtype: float64"
      ]
     },
     "execution_count": 13,
     "metadata": {},
     "output_type": "execute_result"
    }
   ],
   "source": [
    "corr_matrix['Mean.Rank'].sort_values(ascending=False).tail(15)"
   ]
  },
  {
   "cell_type": "markdown",
   "metadata": {},
   "source": [
    "When features are correlated with each other, we have multicolinearity. As can be seen from the correlation matrix plot below, **PRJ.ATT.xxx** features are highly correlated with each other.\n",
    "\n",
    "It's not as big of an issue in predictive modeling as in statistical modeling meaning we care more about how the model predicts versus whether coefficients are statiscially significant. In ideal cases we do want to remove multicolinear features, but for this data challenge I chose not to due to time limit.\n",
    "\n",
    "To further reduce dimensionality let's remove features for which absolute value of correlation with **Mean.Rank** is below 0.3. I assume that they won't be particularly predictive of the **Mean.Rank**"
   ]
  },
  {
   "cell_type": "code",
   "execution_count": 14,
   "metadata": {
    "collapsed": true
   },
   "outputs": [],
   "source": [
    "def corr_mat_heatmap(df):\n",
    "    \"\"\"\n",
    "    df: pandas dataframe\n",
    "    this function plots a correlation matrix heatmap based on the input dataframe\n",
    "    \"\"\"\n",
    "    corr_matrix = df.corr()\n",
    "    \n",
    "    sns.set(style='white', font_scale=1.4)\n",
    "    f, ax = plt.subplots(figsize=(14, 9))\n",
    "    \n",
    "    # Create a mask for the upper triangle\n",
    "    mask = np.zeros_like(corr_matrix, dtype=np.bool)\n",
    "    mask[np.triu_indices_from(mask)] = True\n",
    "\n",
    "    cmap = sns.diverging_palette(300, 50, as_cmap=True)\n",
    "    sns.heatmap(corr_matrix, cmap=cmap, mask=mask, annot=True, annot_kws={'size': 12})  \n",
    "    ax.set_title('Correlation Matrix Heatmap')"
   ]
  },
  {
   "cell_type": "code",
   "execution_count": 15,
   "metadata": {},
   "outputs": [
    {
     "data": {
      "image/png": "[encoded data removed]",
      "text/plain": [
       "<matplotlib.figure.Figure at 0x11350ec10>"
      ]
     },
     "metadata": {},
     "output_type": "display_data"
    }
   ],
   "source": [
    "attributes = ['Mean.Rank',\n",
    "             'PRJ.ATT.1519.S1.FE',\n",
    "             'PRJ.ATT.1519.S1.MF',\n",
    "             'PRJ.ATT.2024.S1.FE',\n",
    "             'PRJ.ATT.1519.S1.MA',\n",
    "             'PRJ.ATT.1519.NED.MA',\n",
    "             'PRJ.ATT.2024.S1.MF',\n",
    "             'PRJ.ATT.2024.S1.MA',\n",
    "             'PRJ.ATT.4064.NED.MA']\n",
    "\n",
    "corr_mat_heatmap(data_with_y[attributes])"
   ]
  },
  {
   "cell_type": "markdown",
   "metadata": {},
   "source": [
    "We can also visualize the relationship of features and response variable using plots. Let's first look at a scatter plot of **Population, ages 15-64 (% of total)** vs **Mean.Rank**. It seems that as a country has more population age 15-64, the mean rank goes higher. This association doesn't seem to have a strong real-world significance because IMO ranking could be more relevant to education instead of population."
   ]
  },
  {
   "cell_type": "code",
   "execution_count": 16,
   "metadata": {},
   "outputs": [
    {
     "data": {
      "text/plain": [
       "<matplotlib.axes._subplots.AxesSubplot at 0x113b5f350>"
      ]
     },
     "execution_count": 16,
     "metadata": {},
     "output_type": "execute_result"
    },
    {
     "data": {
      "image/png": "[encoded data removed]",
      "text/plain": [
       "<matplotlib.figure.Figure at 0x113b7c590>"
      ]
     },
     "metadata": {},
     "output_type": "display_data"
    }
   ],
   "source": [
    "sns.regplot(x='SP.POP.1564.TO.ZS', y='Mean.Rank', data=data_with_y)"
   ]
  },
  {
   "cell_type": "markdown",
   "metadata": {},
   "source": [
    "By looking at another scatter plot below, we see that as percentage of population age 15-19 who didn't complete primary school goes up, the **Mean.Rank** also goes lower. This seems to make sense because . However, we need to avoid the trap of mixing up correlation with causal relationship. The association here doesn't tell which causes which."
   ]
  },
  {
   "cell_type": "code",
   "execution_count": 17,
   "metadata": {},
   "outputs": [
    {
     "data": {
      "text/plain": [
       "<matplotlib.axes._subplots.AxesSubplot at 0x113c83110>"
      ]
     },
     "execution_count": 17,
     "metadata": {},
     "output_type": "execute_result"
    },
    {
     "data": {
      "image/png": "[encoded data removed]",
      "text/plain": [
       "<matplotlib.figure.Figure at 0x107db5110>"
      ]
     },
     "metadata": {},
     "output_type": "display_data"
    }
   ],
   "source": [
    "sns.regplot(x='PRJ.ATT.1519.S1.MF', y='Mean.Rank', data=data_with_y)"
   ]
  },
  {
   "cell_type": "markdown",
   "metadata": {},
   "source": [
    "After correlation analysis, let's now filter out features who are not very correlated with **Mean.Rank**, we are left with 197 features. However, the number of features are still more than the number of samples which means that we can easily overfit the data. We will handle this issue later on."
   ]
  },
  {
   "cell_type": "code",
   "execution_count": 18,
   "metadata": {
    "collapsed": true
   },
   "outputs": [],
   "source": [
    "corr_df = pd.DataFrame(corr_matrix['Mean.Rank'].\\\n",
    "                    sort_values(ascending=False)). \\\n",
    "                    reset_index()\n",
    "    \n",
    "high_corr_df = corr_df[abs(corr_df['Mean.Rank']) > 0.3]"
   ]
  },
  {
   "cell_type": "code",
   "execution_count": 19,
   "metadata": {},
   "outputs": [
    {
     "name": "stdout",
     "output_type": "stream",
     "text": [
      "('Training data dimension: ', (80, 197))\n",
      "('Test data dimension: ', (21, 197))\n"
     ]
    }
   ],
   "source": [
    "X_train2 = X_train[list(high_corr_df['index'])[1:]] # only take out highly correlated features\n",
    "X_test2 = X_test[list(high_corr_df['index'])[1:]]\n",
    "print ('Training data dimension: ', X_train2.shape)\n",
    "print ('Test data dimension: ', X_test2.shape)"
   ]
  },
  {
   "cell_type": "markdown",
   "metadata": {},
   "source": [
    "## 2. Modeling for Regression\n",
    "\n",
    "In this section, we will use the raw **Mean.Rank** to build several regression models.\n",
    "\n",
    "### 2.1 Data Preprocessing\n",
    "For this dataset, there are mainly two steps for data preprocessing: missing value imputation and feature standardization. Let's use the pipeline class in Python to complete these two tasks. Pipeline allows us to pre-process the data more systematically with less code. Below is a helper function class called FeatureSelector. With fit and tranform methods written for the class, we can use it in pipeline just like the built-in class of Scikit-learn."
   ]
  },
  {
   "cell_type": "code",
   "execution_count": 20,
   "metadata": {
    "collapsed": true
   },
   "outputs": [],
   "source": [
    "class FeatureSelector(BaseEstimator, TransformerMixin):\n",
    "    \"\"\"\n",
    "    this class allows for subsetting data based on column names\n",
    "    it can be used in Scikit-learn's pipeline\n",
    "    \"\"\"\n",
    "    def __init__(self, feature_names):\n",
    "        self.feature_names = feature_names\n",
    "    def fit(self, X, y=None):\n",
    "        return self\n",
    "    def transform(self, X):\n",
    "        return X[self.feature_names].values"
   ]
  },
  {
   "cell_type": "markdown",
   "metadata": {},
   "source": [
    "Preprocess the training data in a pipeline:"
   ]
  },
  {
   "cell_type": "code",
   "execution_count": 21,
   "metadata": {
    "collapsed": true
   },
   "outputs": [],
   "source": [
    "features = X_train2.columns\n",
    "pipeline = Pipeline([\n",
    "        ('feature_selector', FeatureSelector(features)),\n",
    "        ('imputer', Imputer(strategy=\"median\")),\n",
    "        ('feature_scaler', StandardScaler()),])\n",
    "\n",
    "X_train_processed = pipeline.fit_transform(X_train2)"
   ]
  },
  {
   "cell_type": "markdown",
   "metadata": {},
   "source": [
    "### 2.2 Initial Model\n",
    "\n",
    "After data-preprocessing, now let's run some initial models with alll 197 features included. After we get the best of performer, we can stick to it for the rest modeling process. In practice though, we might want to have a main model, but keep track of performances of alternative models. After all, we never know if winner is always the winner."
   ]
  },
  {
   "cell_type": "code",
   "execution_count": 22,
   "metadata": {
    "collapsed": true
   },
   "outputs": [],
   "source": [
    "def cross_validation_rmse(model, data, label):\n",
    "    \"\"\"\n",
    "    data: training data\n",
    "    label: response variable\n",
    "    \n",
    "    this function performs a 3-fold cross validation and prints out the RMSE scores\n",
    "    \"\"\"\n",
    "    scores = cross_val_score(model, data, label, scoring=\"neg_mean_squared_error\", cv=3)\n",
    "    rmse_scores = np.sqrt(-scores)\n",
    "    \n",
    "    print('RMSE from 3-fold cross validation:', rmse_scores)\n",
    "    print('Mean RMSE of 3-fold cross validation:', rmse_scores.mean())\n",
    "    print('RMSE Standard deviation:', rmse_scores.std())\n",
    "    print ''"
   ]
  },
  {
   "cell_type": "markdown",
   "metadata": {},
   "source": [
    "We will test linear regression, random forest, extra trees, gradient boosting, and XGBoost. We will use cross validation to check their performance on the training set. Cross validation can usually prevent the model from overfitting the data. As this dataset has rather small number of samples, we will use 3-fold cross validation.\n",
    "\n",
    "To evaluate the models we will use RMSE (root mean square error), it's defined as $\\sqrt{(y_{response} - y_{predict})^2}$.\n",
    "\n",
    "Alternatively, we can use MAE (mean absolute error) to evaluate a regression model. MAE is less affected by outliers, however, we want to avoid the effect of outliers, so we will stick to RMSE for the rest modeling process.\n",
    "\n",
    "From the results below, we see that extra trees regressor has the best performance. Let's use it from now on."
   ]
  },
  {
   "cell_type": "code",
   "execution_count": 23,
   "metadata": {},
   "outputs": [
    {
     "name": "stdout",
     "output_type": "stream",
     "text": [
      "('RMSE from 3-fold cross validation:', array([ 40.15971988,  78.42684262,  29.54951822]))\n",
      "('Mean RMSE of 3-fold cross validation:', 49.378693573078351)\n",
      "('RMSE Standard deviation:', 20.991908233908593)\n",
      "\n",
      "('RMSE from 3-fold cross validation:', array([ 18.18177103,  24.6977021 ,  22.69437455]))\n",
      "('Mean RMSE of 3-fold cross validation:', 21.857949228021763)\n",
      "('RMSE Standard deviation:', 2.7250743008279423)\n",
      "\n",
      "('RMSE from 3-fold cross validation:', array([ 21.40852538,  22.54969672,  17.98745731]))\n",
      "('Mean RMSE of 3-fold cross validation:', 20.648559801035603)\n",
      "('RMSE Standard deviation:', 1.9384990532442097)\n",
      "\n",
      "('RMSE from 3-fold cross validation:', array([ 18.87485388,  25.81674794,  19.82701932]))\n",
      "('Mean RMSE of 3-fold cross validation:', 21.506207045702368)\n",
      "('RMSE Standard deviation:', 3.0726998816076661)\n",
      "\n",
      "('RMSE from 3-fold cross validation:', array([ 17.4705412 ,  26.66423622,  18.14675023]))\n",
      "('Mean RMSE of 3-fold cross validation:', 20.760509215651414)\n",
      "('RMSE Standard deviation:', 4.1836833076046904)\n",
      "\n"
     ]
    }
   ],
   "source": [
    "algos = [LinearRegression(), RandomForestRegressor(random_state=0),\n",
    "         ExtraTreesRegressor(random_state=0), GradientBoostingRegressor(random_state=0),\n",
    "         XGBRegressor()]\n",
    "\n",
    "for algo in algos:\n",
    "    cross_validation_rmse(algo, X_train_processed, y_train)"
   ]
  },
  {
   "cell_type": "markdown",
   "metadata": {},
   "source": [
    "### 2.3 Feature Selection and Dimension Reduction\n",
    "\n",
    "In the previous section, we trained the model using all 193 features. When there are more features than samples, the model tend to overfit the data. In this section we will use several methods for feature selection and dimention reduction. The purpose is to see if we can build a robust model with less features.\n",
    "\n",
    "#### 2.31 Feature Importance from Extra Trees\n",
    "\n",
    "First, let's use feature importance from extra trees to select the top 20 most important features. In Scikit-learn, the feature importance of extra trees is directly related how frequent the data is split on a node/feature, and how deep this node appears in a tree. Feature importance can usually give us good insights which features are predictive."
   ]
  },
  {
   "cell_type": "code",
   "execution_count": 24,
   "metadata": {
    "collapsed": true,
    "scrolled": true
   },
   "outputs": [],
   "source": [
    "def indices_of_top_k(arr, k):\n",
    "    \"\"\"\n",
    "    this function is used with TopFeatureSelector\n",
    "    \"\"\"\n",
    "    return np.sort(np.argpartition(np.array(arr), -k)[-k:])\n",
    "\n",
    "\n",
    "class TopFeatureSelector(BaseEstimator, TransformerMixin):\n",
    "    \"\"\"\n",
    "    this class allows for subsetting data based on feature importance\n",
    "    \"\"\"\n",
    "    def __init__(self, feature_importances, k):\n",
    "        self.feature_importances = feature_importances\n",
    "        self.k = k\n",
    "    def fit(self, X, y=None):\n",
    "        self.feature_indices_ = indices_of_top_k(self.feature_importances, self.k)\n",
    "        return self\n",
    "    def transform(self, X):\n",
    "        return X[:, self.feature_indices_]"
   ]
  },
  {
   "cell_type": "markdown",
   "metadata": {},
   "source": [
    "From the result below we see that by using the top 20 important features, we reduce the RMSE from 20.65 to 19.49."
   ]
  },
  {
   "cell_type": "code",
   "execution_count": 25,
   "metadata": {},
   "outputs": [
    {
     "name": "stdout",
     "output_type": "stream",
     "text": [
      "('RMSE from 3-fold cross validation:', array([ 20.70238157,  19.95048862,  17.83000168]))\n",
      "('Mean RMSE of 3-fold cross validation:', 19.494290622539136)\n",
      "('RMSE Standard deviation:', 1.2162042088559482)\n",
      "\n"
     ]
    }
   ],
   "source": [
    "extra_reg = ExtraTreesRegressor(random_state=0)\n",
    "extra_reg.fit(X_train_processed, y_train)\n",
    "\n",
    "final_pipeline = Pipeline([\n",
    "    ('preparation', pipeline),\n",
    "    ('feature_selection', TopFeatureSelector(extra_reg.feature_importances_, 20))\n",
    "])\n",
    "\n",
    "X_train_final = final_pipeline.fit_transform(X_train2)\n",
    "cross_validation_rmse(ExtraTreesRegressor(random_state=0), \\\n",
    "                                                X_train_final, y_train)"
   ]
  },
  {
   "cell_type": "markdown",
   "metadata": {},
   "source": [
    "Let's also plot the feature importance. From the plot below we see that the top 1 important feature is **Percentage of the population age 15-19 by highest level of educational attainment. Incomplete Primary. Total**. More interestingly, almost all important features belong to the **PRJ.ATT.xxx** feature group. This is consistent with what we saw in the correlation analysis."
   ]
  },
  {
   "cell_type": "code",
   "execution_count": 26,
   "metadata": {
    "collapsed": true
   },
   "outputs": [],
   "source": [
    "def feature_importance_plot(importance_list, col_list, top_n=10):\n",
    "    \"\"\"\n",
    "    importance_list: a list of feature importance\n",
    "    col_list: a list of column names matching the importance list\n",
    "    \n",
    "    this functions draw a plot of feature importance\n",
    "    \"\"\"\n",
    "    importance_df = pd.DataFrame({'feature_importance': importance_list[:top_n], \\\n",
    "                                  'feature_name': col_list[:top_n]}).\\\n",
    "                    sort_values('feature_importance', ascending=False)\n",
    "    sns.barplot(x='feature_importance', y='feature_name', data=importance_df, color=\"b\")"
   ]
  },
  {
   "cell_type": "code",
   "execution_count": 27,
   "metadata": {},
   "outputs": [
    {
     "data": {
      "image/png": "[encoded data removed]",
      "text/plain": [
       "<matplotlib.figure.Figure at 0x113a9cd90>"
      ]
     },
     "metadata": {},
     "output_type": "display_data"
    }
   ],
   "source": [
    "feature_importance_plot(extra_reg.feature_importances_, X_train2.columns)"
   ]
  },
  {
   "cell_type": "markdown",
   "metadata": {},
   "source": [
    "#### 2.32 Recursive Feature Elimination\n",
    "\n",
    "Now let's use recursive feature elimination (RFE) to perform feature selection. As per documentation of Scikit-learn, RFE does the following job:\n",
    "\n",
    "Given an external estimator that assigns weights to features (e.g., feature importance), the goal of recursive feature elimination (RFE) is to select features by recursively considering smaller and smaller sets of features. First, the estimator is trained on the initial set of features and the importance of each feature is obtained either through a through a feature_importances_ attribute. Then, the least important features are pruned from current set of features. That procedure is recursively repeated on the pruned set until the desired number of features to select is eventually reached.\n",
    "\n",
    "The difference between the previous method and RFE is that previously, we fit the model to the whole dataset only once and we then selected 20 important features. On the other hand, RFE will fit the model multiple times and remove the least important feature each time until we have 20 left (I chose to keep 20 features so we can compare two methods). As a result, the final feautres are different, we see less **PRJ.ATT** features and have some other features."
   ]
  },
  {
   "cell_type": "code",
   "execution_count": 28,
   "metadata": {},
   "outputs": [
    {
     "name": "stdout",
     "output_type": "stream",
     "text": [
      "Features sorted by their rank:\n",
      "[(1.0, 'IT.CMP.PCMP.P2'), (1.0, 'NY.GDP.MKTP.CD'), (1.0, 'NY.GNP.MKTP.PP.CD'), (1.0, 'PRJ.ATT.1519.3.FE'), (1.0, 'PRJ.ATT.1519.3.MF'), (1.0, 'PRJ.ATT.2039.NED.MA'), (1.0, 'PRJ.ATT.25UP.NED.MF'), (1.0, 'PRJ.POP.2529.4.MA'), (1.0, 'PRJ.POP.ALL.4.MA'), (1.0, 'SE.PRM.TCHR.FE.ZS'), (1.0, 'SE.SEC.ENRL.GC'), (1.0, 'SE.TER.ENRL.FE'), (1.0, 'SP.POP.0014.TO.ZS'), (1.0, 'SP.POP.GROW'), (1.0, 'UIS.E.02.PU'), (1.0, 'UIS.OE.56.40510'), (1.0, 'UIS.SLE.1.F'), (1.0, 'UIS.SLE.23.F'), (1.0, 'UIS.SLE.23.M'), (1.0, 'UIS.SLE.56.M')]\n"
     ]
    }
   ],
   "source": [
    "from sklearn.feature_selection import RFE\n",
    "\n",
    "rfe = RFE(estimator=ExtraTreesRegressor(random_state=0), n_features_to_select=20, step=1)\n",
    "rfe.fit(X_train_processed, y_train)\n",
    "\n",
    "print \"Features sorted by their rank:\"\n",
    "print sorted(zip(map(lambda x: round(x, 4), rfe.ranking_), \\\n",
    "                 X_train2.columns))[:20]"
   ]
  },
  {
   "cell_type": "markdown",
   "metadata": {},
   "source": [
    "From the result below, we see that the model trained on feautres derived from RFE has better performance. The RMSE is further reduced from 19.49 to 19.15."
   ]
  },
  {
   "cell_type": "code",
   "execution_count": 29,
   "metadata": {},
   "outputs": [
    {
     "name": "stdout",
     "output_type": "stream",
     "text": [
      "('RMSE from 3-fold cross validation:', array([ 18.01374047,  23.13852297,  16.3117333 ]))\n",
      "('Mean RMSE of 3-fold cross validation:', 19.154665580542247)\n",
      "('RMSE Standard deviation:', 2.9014418118943053)\n",
      "\n"
     ]
    }
   ],
   "source": [
    "selected_features = list(np.array(X_train2.columns)[np.where(rfe.ranking_==1)])\n",
    "pipeline2 = Pipeline([\n",
    "        ('feature_selector', FeatureSelector(selected_features)),\n",
    "        ('imputer', Imputer(strategy=\"median\")),\n",
    "        ('feature_scaler', StandardScaler()),])\n",
    "\n",
    "X_train_rec = pipeline2.fit_transform(X_train2)\n",
    "cross_validation_rmse(ExtraTreesRegressor(random_state=0), \\\n",
    "                      X_train_rec, y_train)"
   ]
  },
  {
   "cell_type": "markdown",
   "metadata": {},
   "source": [
    "#### 2.33 Principal Component Analysis\n",
    "\n",
    "Finally, let's use PCA for dimension reduction. Note that, we are not performing feature selection here, we simply compress the data into a few principal components and hope it can improve the model performance."
   ]
  },
  {
   "cell_type": "code",
   "execution_count": 30,
   "metadata": {
    "collapsed": true
   },
   "outputs": [],
   "source": [
    "from sklearn.decomposition import PCA\n",
    "\n",
    "rmse = []\n",
    "for i in xrange(1,21):\n",
    "    pca = PCA(n_components=i)\n",
    "    X_train_pca = pca.fit_transform(X_train_processed)\n",
    "    scores = cross_val_score(ExtraTreesRegressor(random_state=0), \\\n",
    "                                                 X_train_pca, y_train, \\\n",
    "                                                 scoring=\"neg_mean_squared_error\", cv=3)\n",
    "    rmse_scores = np.sqrt(-scores)\n",
    "    rmse.append(np.mean(rmse_scores))"
   ]
  },
  {
   "cell_type": "markdown",
   "metadata": {},
   "source": [
    "From the result below, we see that when the number of components is 10, we have the lowest RMSE. However, this RMSE is the worse than that of previous methods."
   ]
  },
  {
   "cell_type": "code",
   "execution_count": 31,
   "metadata": {},
   "outputs": [
    {
     "name": "stdout",
     "output_type": "stream",
     "text": [
      "RMSE from PCA: 21.6729188222\n"
     ]
    },
    {
     "data": {
      "text/plain": [
       "<matplotlib.axes._subplots.AxesSubplot at 0x107df1f50>"
      ]
     },
     "execution_count": 31,
     "metadata": {},
     "output_type": "execute_result"
    },
    {
     "data": {
      "image/png": "[encoded data removed]",
      "text/plain": [
       "<matplotlib.figure.Figure at 0x113c3a590>"
      ]
     },
     "metadata": {},
     "output_type": "display_data"
    }
   ],
   "source": [
    "print \"RMSE from PCA: \" + str(rmse[9])\n",
    "sns.pointplot(range(1, 21), rmse)"
   ]
  },
  {
   "cell_type": "markdown",
   "metadata": {},
   "source": [
    "#### 2.34 Modeling Summary\n",
    "\n",
    "We have used three methods for feature selection or dimension reduction.\n",
    "1. Feature importance method gave us a RMSE of 19.49.\n",
    "2. Recursive feature elimination gave us a RMSE of 19.15 - the best among three. We also see more diversity in selected features. As a result, let's use this model for prediction.\n",
    "3. Principal Component Analysis gave us a RMSE of 21.57. In practice it won't work too well if features are highly correlated with each other."
   ]
  },
  {
   "cell_type": "markdown",
   "metadata": {},
   "source": [
    "### 2.4 Predict on Test Set\n",
    "\n",
    "Finally, let's predict on the test set using features selected from RFE. The RMSE on the test set is 16.57. It's lower than the training RMSE. In practice, this doesn't seem to the the usual case, the RMSE on the test set should be higher than the training set. For this dataset though, we have very few samples in the test set which can be the reason."
   ]
  },
  {
   "cell_type": "code",
   "execution_count": 32,
   "metadata": {},
   "outputs": [
    {
     "name": "stdout",
     "output_type": "stream",
     "text": [
      "RMSE on test set is: 16.5709677376\n"
     ]
    }
   ],
   "source": [
    "X_test_rec = pipeline2.transform(X_test2)\n",
    "\n",
    "extra_reg = ExtraTreesRegressor(random_state=0)\n",
    "extra_reg.fit(X_train_rec, y_train)\n",
    "y_test_pred = extra_reg.predict(X_test_rec)\n",
    "print 'RMSE on test set is: ' + str(np.sqrt(mean_squared_error(y_test, y_test_pred)))"
   ]
  },
  {
   "cell_type": "markdown",
   "metadata": {},
   "source": [
    "Let's take a deeper dive and compare the true values and predicted values. We see from the table below that the model generalizes \"ok\" on most samples, but it didn't do a good job for some points, for example, for ranking 76 (Ireland), the predicted ranking is 39. My reasoning is that, ensemble methods such as random forest and extra trees try to make predictions based on decision rules. Since Ireland is a developed country and has great educational attributes (e.g. more educated population), it's easy for the model to predict a good ranking for it because other developed countried with similar educational attributes often have good rankings. To counter this kind of problem, we need feature engineering or even more feautres (such as the historical ranking of a country)."
   ]
  },
  {
   "cell_type": "code",
   "execution_count": 33,
   "metadata": {},
   "outputs": [
    {
     "data": {
      "text/html": [
       "<div>\n",
       "<style>\n",
       "    .dataframe thead tr:only-child th {\n",
       "        text-align: right;\n",
       "    }\n",
       "\n",
       "    .dataframe thead th {\n",
       "        text-align: left;\n",
       "    }\n",
       "\n",
       "    .dataframe tbody tr th {\n",
       "        vertical-align: top;\n",
       "    }\n",
       "</style>\n",
       "<table border=\"1\" class=\"dataframe\">\n",
       "  <thead>\n",
       "    <tr style=\"text-align: right;\">\n",
       "      <th></th>\n",
       "      <th>Predicted IMO Ranking</th>\n",
       "      <th>True IMO Ranking</th>\n",
       "    </tr>\n",
       "  </thead>\n",
       "  <tbody>\n",
       "    <tr>\n",
       "      <th>17</th>\n",
       "      <td>11.780</td>\n",
       "      <td>5.50</td>\n",
       "    </tr>\n",
       "    <tr>\n",
       "      <th>4</th>\n",
       "      <td>20.729</td>\n",
       "      <td>11.25</td>\n",
       "    </tr>\n",
       "    <tr>\n",
       "      <th>14</th>\n",
       "      <td>33.452</td>\n",
       "      <td>15.25</td>\n",
       "    </tr>\n",
       "    <tr>\n",
       "      <th>15</th>\n",
       "      <td>37.578</td>\n",
       "      <td>19.75</td>\n",
       "    </tr>\n",
       "    <tr>\n",
       "      <th>19</th>\n",
       "      <td>18.542</td>\n",
       "      <td>21.63</td>\n",
       "    </tr>\n",
       "    <tr>\n",
       "      <th>7</th>\n",
       "      <td>32.179</td>\n",
       "      <td>22.00</td>\n",
       "    </tr>\n",
       "    <tr>\n",
       "      <th>13</th>\n",
       "      <td>52.323</td>\n",
       "      <td>36.88</td>\n",
       "    </tr>\n",
       "    <tr>\n",
       "      <th>6</th>\n",
       "      <td>37.864</td>\n",
       "      <td>37.38</td>\n",
       "    </tr>\n",
       "    <tr>\n",
       "      <th>0</th>\n",
       "      <td>59.088</td>\n",
       "      <td>44.75</td>\n",
       "    </tr>\n",
       "    <tr>\n",
       "      <th>11</th>\n",
       "      <td>40.390</td>\n",
       "      <td>45.13</td>\n",
       "    </tr>\n",
       "    <tr>\n",
       "      <th>8</th>\n",
       "      <td>58.601</td>\n",
       "      <td>50.25</td>\n",
       "    </tr>\n",
       "    <tr>\n",
       "      <th>10</th>\n",
       "      <td>35.102</td>\n",
       "      <td>55.00</td>\n",
       "    </tr>\n",
       "    <tr>\n",
       "      <th>1</th>\n",
       "      <td>54.283</td>\n",
       "      <td>65.25</td>\n",
       "    </tr>\n",
       "    <tr>\n",
       "      <th>2</th>\n",
       "      <td>62.252</td>\n",
       "      <td>72.00</td>\n",
       "    </tr>\n",
       "    <tr>\n",
       "      <th>5</th>\n",
       "      <td>39.253</td>\n",
       "      <td>76.00</td>\n",
       "    </tr>\n",
       "    <tr>\n",
       "      <th>9</th>\n",
       "      <td>64.848</td>\n",
       "      <td>79.83</td>\n",
       "    </tr>\n",
       "    <tr>\n",
       "      <th>20</th>\n",
       "      <td>46.926</td>\n",
       "      <td>85.25</td>\n",
       "    </tr>\n",
       "    <tr>\n",
       "      <th>12</th>\n",
       "      <td>74.392</td>\n",
       "      <td>88.86</td>\n",
       "    </tr>\n",
       "    <tr>\n",
       "      <th>18</th>\n",
       "      <td>79.684</td>\n",
       "      <td>94.71</td>\n",
       "    </tr>\n",
       "    <tr>\n",
       "      <th>16</th>\n",
       "      <td>99.916</td>\n",
       "      <td>104.25</td>\n",
       "    </tr>\n",
       "    <tr>\n",
       "      <th>3</th>\n",
       "      <td>94.841</td>\n",
       "      <td>110.00</td>\n",
       "    </tr>\n",
       "  </tbody>\n",
       "</table>\n",
       "</div>"
      ],
      "text/plain": [
       "    Predicted IMO Ranking  True IMO Ranking\n",
       "17                 11.780              5.50\n",
       "4                  20.729             11.25\n",
       "14                 33.452             15.25\n",
       "15                 37.578             19.75\n",
       "19                 18.542             21.63\n",
       "7                  32.179             22.00\n",
       "13                 52.323             36.88\n",
       "6                  37.864             37.38\n",
       "0                  59.088             44.75\n",
       "11                 40.390             45.13\n",
       "8                  58.601             50.25\n",
       "10                 35.102             55.00\n",
       "1                  54.283             65.25\n",
       "2                  62.252             72.00\n",
       "5                  39.253             76.00\n",
       "9                  64.848             79.83\n",
       "20                 46.926             85.25\n",
       "12                 74.392             88.86\n",
       "18                 79.684             94.71\n",
       "16                 99.916            104.25\n",
       "3                  94.841            110.00"
      ]
     },
     "execution_count": 33,
     "metadata": {},
     "output_type": "execute_result"
    }
   ],
   "source": [
    "result = pd.DataFrame({'True IMO Ranking':y_test, 'Predicted IMO Ranking':y_test_pred})\n",
    "result.sort_values('True IMO Ranking')"
   ]
  },
  {
   "cell_type": "markdown",
   "metadata": {
    "collapsed": true
   },
   "source": [
    "## 3. Modeling for Classification\n",
    "\n",
    "Now let's switch our gear a bit and turn this regression problem into a classification one. Let's try to predict if a country has a high, medium, and low ranking. \n",
    "\n",
    "### 3.1 Initial Model\n",
    "\n",
    "For the first model, let's consider the following interval:\n",
    "\n",
    "* High: ranking <= 30\n",
    "* Medium: ranking 30 - 60\n",
    "* Low: ranking > 60\n",
    "\n",
    "From the histogram below, we see a relatively balanced class distribution."
   ]
  },
  {
   "cell_type": "code",
   "execution_count": 34,
   "metadata": {},
   "outputs": [
    {
     "data": {
      "text/plain": [
       "<matplotlib.axes._subplots.AxesSubplot at 0x113c0c910>"
      ]
     },
     "execution_count": 34,
     "metadata": {},
     "output_type": "execute_result"
    },
    {
     "data": {
      "image/png": "[encoded data removed]",
      "text/plain": [
       "<matplotlib.figure.Figure at 0x1139a14d0>"
      ]
     },
     "metadata": {},
     "output_type": "display_data"
    }
   ],
   "source": [
    "def response_bin(value):\n",
    "    if value <= 30:\n",
    "        return 0\n",
    "    elif value > 30 and value <= 60:\n",
    "        return 1\n",
    "    elif value > 60:\n",
    "        return 2\n",
    "\n",
    "y_train_cat = y_train.apply(response_bin)\n",
    "y_test_cat = y_test.apply(response_bin)\n",
    "y_train_cat.hist()"
   ]
  },
  {
   "cell_type": "markdown",
   "metadata": {},
   "source": [
    "This time, let's use log loss to verify our cross-validation result. Los loss punishes more on mis-classified samples and is used in many kaggle competitions."
   ]
  },
  {
   "cell_type": "code",
   "execution_count": 35,
   "metadata": {
    "collapsed": true
   },
   "outputs": [],
   "source": [
    "def cross_validation_logloss(model, data, label):\n",
    "    \"\"\"\n",
    "    data: training data\n",
    "    label: response variable\n",
    "    \n",
    "    this function performs a 3-fold cross validation and prints out the RMSE scores\n",
    "    \"\"\"\n",
    "    logloss = cross_val_score(model, data, label, scoring=\"neg_log_loss\", cv=3)\n",
    "    \n",
    "    print('Log loss from 3-fold cross validation:', -logloss.mean())\n",
    "    print ''"
   ]
  },
  {
   "cell_type": "markdown",
   "metadata": {},
   "source": [
    "Since we got the best feature set for regression using recursive feature elimination, let's use RFE for classification too. The final feature set is somewhat similar to that of the regression."
   ]
  },
  {
   "cell_type": "code",
   "execution_count": 36,
   "metadata": {},
   "outputs": [
    {
     "name": "stdout",
     "output_type": "stream",
     "text": [
      "Features sorted by their rank:\n",
      "[(1.0, 'NY.GDP.MKTP.KD'), (1.0, 'NY.GDP.MKTP.PP.CD'), (1.0, 'NY.GDP.MKTP.PP.KD'), (1.0, 'NY.GNP.MKTP.CD'), (1.0, 'PRJ.ATT.15UP.3.FE'), (1.0, 'PRJ.ATT.2024.3.MA'), (1.0, 'PRJ.ATT.2024.3.MF'), (1.0, 'PRJ.ATT.60UP.NED.MF'), (1.0, 'PRJ.ATT.ALL.3.FE'), (1.0, 'PRJ.MYS.2039.FE'), (1.0, 'PRJ.POP.ALL.3.FE'), (1.0, 'PRJ.POP.ALL.4.FE'), (1.0, 'SE.PRM.DURS'), (1.0, 'SE.SEC.ENRL.GC'), (1.0, 'SE.SEC.ENRR.LO.MA'), (1.0, 'UIS.E.2.GPV.F'), (1.0, 'UIS.GER.1T6.F'), (1.0, 'UIS.SLE.1.F'), (1.0, 'UIS.SLE.1.GPI'), (1.0, 'UIS.TE_100000.56')]\n"
     ]
    }
   ],
   "source": [
    "rfe = RFE(estimator=ExtraTreesClassifier(random_state=0), n_features_to_select=20, step=1)\n",
    "rfe.fit(X_train_processed, y_train_cat)\n",
    "\n",
    "print \"Features sorted by their rank:\"\n",
    "print sorted(zip(map(lambda x: round(x, 4), rfe.ranking_), \\\n",
    "                 X_train2.columns))[:20]"
   ]
  },
  {
   "cell_type": "code",
   "execution_count": 37,
   "metadata": {
    "collapsed": true
   },
   "outputs": [],
   "source": [
    "selected_features = list(np.array(X_train2.columns)[np.where(rfe.ranking_==1)])\n",
    "pipeline2 = Pipeline([\n",
    "        ('feature_selector', FeatureSelector(selected_features)),\n",
    "        ('imputer', Imputer(strategy=\"median\")),\n",
    "        ('feature_scaler', StandardScaler()),])\n",
    "\n",
    "X_train_rec = pipeline2.fit_transform(X_train2)\n",
    "X_test_rec = pipeline2.transform(X_test2)"
   ]
  },
  {
   "cell_type": "markdown",
   "metadata": {},
   "source": [
    "We have a log loss of 2.01 from cross validation"
   ]
  },
  {
   "cell_type": "code",
   "execution_count": 38,
   "metadata": {},
   "outputs": [
    {
     "name": "stdout",
     "output_type": "stream",
     "text": [
      "('Log loss from 3-fold cross validation:', 2.0100936100964937)\n",
      "\n"
     ]
    }
   ],
   "source": [
    "extra_class = ExtraTreesClassifier(random_state=0)\n",
    "cross_validation_logloss(extra_class, data=X_train_rec, label=y_train_cat)"
   ]
  },
  {
   "cell_type": "markdown",
   "metadata": {},
   "source": [
    "### 3.2 Model after Changing Splitting Point of Response\n",
    "\n",
    "This time, let's consider the following split:\n",
    "\n",
    "* High: ranking <= 20\n",
    "* Medium: ranking 20 - 50\n",
    "* Low: ranking > 50"
   ]
  },
  {
   "cell_type": "code",
   "execution_count": 39,
   "metadata": {
    "collapsed": true
   },
   "outputs": [],
   "source": [
    "def response_bin(value):\n",
    "    if value <= 20:\n",
    "        return 0\n",
    "    elif value > 20 and value <= 50:\n",
    "        return 1\n",
    "    elif value > 50:\n",
    "        return 2\n",
    "\n",
    "y_train_cat = y_train.apply(response_bin)\n",
    "y_test_cat = y_test.apply(response_bin)"
   ]
  },
  {
   "cell_type": "markdown",
   "metadata": {},
   "source": [
    "The log loss dropped from 2.01 to 1.96. Is that the best split though? If not, how do we find the best one?"
   ]
  },
  {
   "cell_type": "code",
   "execution_count": 40,
   "metadata": {},
   "outputs": [
    {
     "name": "stdout",
     "output_type": "stream",
     "text": [
      "('Log loss from 3-fold cross validation:', 1.9610563859208936)\n",
      "\n"
     ]
    }
   ],
   "source": [
    "extra_class = ExtraTreesClassifier(random_state=0)\n",
    "cross_validation_logloss(extra_class, data=X_train_rec, label=y_train_cat)"
   ]
  },
  {
   "cell_type": "markdown",
   "metadata": {},
   "source": [
    "### 3.3 Use K-means to Cluster Response Variable\n",
    "\n",
    "In practice, when we don't know how to choose the splitting points for the response variable, we can use clustering technique. Using k-means clustering, we see the splitting points become 32.63 and 65.88. This is similar to our first model."
   ]
  },
  {
   "cell_type": "code",
   "execution_count": 41,
   "metadata": {
    "scrolled": true
   },
   "outputs": [
    {
     "data": {
      "text/html": [
       "<div>\n",
       "<style>\n",
       "    .dataframe thead tr:only-child th {\n",
       "        text-align: right;\n",
       "    }\n",
       "\n",
       "    .dataframe thead th {\n",
       "        text-align: left;\n",
       "    }\n",
       "\n",
       "    .dataframe tbody tr th {\n",
       "        vertical-align: top;\n",
       "    }\n",
       "</style>\n",
       "<table border=\"1\" class=\"dataframe\">\n",
       "  <thead>\n",
       "    <tr style=\"text-align: right;\">\n",
       "      <th></th>\n",
       "      <th>K-means cluster</th>\n",
       "      <th>True IMO Ranking</th>\n",
       "    </tr>\n",
       "  </thead>\n",
       "  <tbody>\n",
       "    <tr>\n",
       "      <th>33</th>\n",
       "      <td>1</td>\n",
       "      <td>1.63</td>\n",
       "    </tr>\n",
       "    <tr>\n",
       "      <th>49</th>\n",
       "      <td>1</td>\n",
       "      <td>2.38</td>\n",
       "    </tr>\n",
       "    <tr>\n",
       "      <th>29</th>\n",
       "      <td>1</td>\n",
       "      <td>4.13</td>\n",
       "    </tr>\n",
       "    <tr>\n",
       "      <th>19</th>\n",
       "      <td>1</td>\n",
       "      <td>8.38</td>\n",
       "    </tr>\n",
       "    <tr>\n",
       "      <th>69</th>\n",
       "      <td>1</td>\n",
       "      <td>10.00</td>\n",
       "    </tr>\n",
       "    <tr>\n",
       "      <th>42</th>\n",
       "      <td>1</td>\n",
       "      <td>10.88</td>\n",
       "    </tr>\n",
       "    <tr>\n",
       "      <th>5</th>\n",
       "      <td>1</td>\n",
       "      <td>12.63</td>\n",
       "    </tr>\n",
       "    <tr>\n",
       "      <th>4</th>\n",
       "      <td>1</td>\n",
       "      <td>13.13</td>\n",
       "    </tr>\n",
       "    <tr>\n",
       "      <th>8</th>\n",
       "      <td>1</td>\n",
       "      <td>16.38</td>\n",
       "    </tr>\n",
       "    <tr>\n",
       "      <th>58</th>\n",
       "      <td>1</td>\n",
       "      <td>16.63</td>\n",
       "    </tr>\n",
       "    <tr>\n",
       "      <th>78</th>\n",
       "      <td>1</td>\n",
       "      <td>18.00</td>\n",
       "    </tr>\n",
       "    <tr>\n",
       "      <th>39</th>\n",
       "      <td>1</td>\n",
       "      <td>21.13</td>\n",
       "    </tr>\n",
       "    <tr>\n",
       "      <th>6</th>\n",
       "      <td>1</td>\n",
       "      <td>23.88</td>\n",
       "    </tr>\n",
       "    <tr>\n",
       "      <th>13</th>\n",
       "      <td>1</td>\n",
       "      <td>24.25</td>\n",
       "    </tr>\n",
       "    <tr>\n",
       "      <th>7</th>\n",
       "      <td>1</td>\n",
       "      <td>25.00</td>\n",
       "    </tr>\n",
       "    <tr>\n",
       "      <th>71</th>\n",
       "      <td>1</td>\n",
       "      <td>26.13</td>\n",
       "    </tr>\n",
       "    <tr>\n",
       "      <th>30</th>\n",
       "      <td>1</td>\n",
       "      <td>26.25</td>\n",
       "    </tr>\n",
       "    <tr>\n",
       "      <th>46</th>\n",
       "      <td>1</td>\n",
       "      <td>26.38</td>\n",
       "    </tr>\n",
       "    <tr>\n",
       "      <th>59</th>\n",
       "      <td>1</td>\n",
       "      <td>26.75</td>\n",
       "    </tr>\n",
       "    <tr>\n",
       "      <th>62</th>\n",
       "      <td>1</td>\n",
       "      <td>27.75</td>\n",
       "    </tr>\n",
       "    <tr>\n",
       "      <th>9</th>\n",
       "      <td>1</td>\n",
       "      <td>28.25</td>\n",
       "    </tr>\n",
       "    <tr>\n",
       "      <th>38</th>\n",
       "      <td>1</td>\n",
       "      <td>28.88</td>\n",
       "    </tr>\n",
       "    <tr>\n",
       "      <th>17</th>\n",
       "      <td>1</td>\n",
       "      <td>29.00</td>\n",
       "    </tr>\n",
       "    <tr>\n",
       "      <th>22</th>\n",
       "      <td>1</td>\n",
       "      <td>29.00</td>\n",
       "    </tr>\n",
       "    <tr>\n",
       "      <th>63</th>\n",
       "      <td>1</td>\n",
       "      <td>30.75</td>\n",
       "    </tr>\n",
       "    <tr>\n",
       "      <th>34</th>\n",
       "      <td>1</td>\n",
       "      <td>32.63</td>\n",
       "    </tr>\n",
       "    <tr>\n",
       "      <th>55</th>\n",
       "      <td>2</td>\n",
       "      <td>41.75</td>\n",
       "    </tr>\n",
       "    <tr>\n",
       "      <th>32</th>\n",
       "      <td>2</td>\n",
       "      <td>43.88</td>\n",
       "    </tr>\n",
       "    <tr>\n",
       "      <th>28</th>\n",
       "      <td>2</td>\n",
       "      <td>44.88</td>\n",
       "    </tr>\n",
       "    <tr>\n",
       "      <th>56</th>\n",
       "      <td>2</td>\n",
       "      <td>44.88</td>\n",
       "    </tr>\n",
       "    <tr>\n",
       "      <th>...</th>\n",
       "      <td>...</td>\n",
       "      <td>...</td>\n",
       "    </tr>\n",
       "    <tr>\n",
       "      <th>66</th>\n",
       "      <td>2</td>\n",
       "      <td>64.88</td>\n",
       "    </tr>\n",
       "    <tr>\n",
       "      <th>25</th>\n",
       "      <td>2</td>\n",
       "      <td>65.88</td>\n",
       "    </tr>\n",
       "    <tr>\n",
       "      <th>12</th>\n",
       "      <td>2</td>\n",
       "      <td>71.00</td>\n",
       "    </tr>\n",
       "    <tr>\n",
       "      <th>64</th>\n",
       "      <td>0</td>\n",
       "      <td>72.33</td>\n",
       "    </tr>\n",
       "    <tr>\n",
       "      <th>41</th>\n",
       "      <td>0</td>\n",
       "      <td>73.50</td>\n",
       "    </tr>\n",
       "    <tr>\n",
       "      <th>76</th>\n",
       "      <td>0</td>\n",
       "      <td>76.50</td>\n",
       "    </tr>\n",
       "    <tr>\n",
       "      <th>10</th>\n",
       "      <td>0</td>\n",
       "      <td>77.50</td>\n",
       "    </tr>\n",
       "    <tr>\n",
       "      <th>31</th>\n",
       "      <td>0</td>\n",
       "      <td>78.63</td>\n",
       "    </tr>\n",
       "    <tr>\n",
       "      <th>18</th>\n",
       "      <td>0</td>\n",
       "      <td>79.29</td>\n",
       "    </tr>\n",
       "    <tr>\n",
       "      <th>2</th>\n",
       "      <td>0</td>\n",
       "      <td>80.13</td>\n",
       "    </tr>\n",
       "    <tr>\n",
       "      <th>47</th>\n",
       "      <td>0</td>\n",
       "      <td>81.63</td>\n",
       "    </tr>\n",
       "    <tr>\n",
       "      <th>60</th>\n",
       "      <td>0</td>\n",
       "      <td>82.25</td>\n",
       "    </tr>\n",
       "    <tr>\n",
       "      <th>11</th>\n",
       "      <td>0</td>\n",
       "      <td>83.75</td>\n",
       "    </tr>\n",
       "    <tr>\n",
       "      <th>43</th>\n",
       "      <td>0</td>\n",
       "      <td>83.88</td>\n",
       "    </tr>\n",
       "    <tr>\n",
       "      <th>44</th>\n",
       "      <td>0</td>\n",
       "      <td>85.00</td>\n",
       "    </tr>\n",
       "    <tr>\n",
       "      <th>73</th>\n",
       "      <td>0</td>\n",
       "      <td>85.86</td>\n",
       "    </tr>\n",
       "    <tr>\n",
       "      <th>54</th>\n",
       "      <td>0</td>\n",
       "      <td>86.38</td>\n",
       "    </tr>\n",
       "    <tr>\n",
       "      <th>53</th>\n",
       "      <td>0</td>\n",
       "      <td>88.25</td>\n",
       "    </tr>\n",
       "    <tr>\n",
       "      <th>3</th>\n",
       "      <td>0</td>\n",
       "      <td>91.57</td>\n",
       "    </tr>\n",
       "    <tr>\n",
       "      <th>48</th>\n",
       "      <td>0</td>\n",
       "      <td>92.25</td>\n",
       "    </tr>\n",
       "    <tr>\n",
       "      <th>74</th>\n",
       "      <td>0</td>\n",
       "      <td>93.17</td>\n",
       "    </tr>\n",
       "    <tr>\n",
       "      <th>79</th>\n",
       "      <td>0</td>\n",
       "      <td>94.57</td>\n",
       "    </tr>\n",
       "    <tr>\n",
       "      <th>26</th>\n",
       "      <td>0</td>\n",
       "      <td>96.83</td>\n",
       "    </tr>\n",
       "    <tr>\n",
       "      <th>75</th>\n",
       "      <td>0</td>\n",
       "      <td>97.50</td>\n",
       "    </tr>\n",
       "    <tr>\n",
       "      <th>20</th>\n",
       "      <td>0</td>\n",
       "      <td>98.00</td>\n",
       "    </tr>\n",
       "    <tr>\n",
       "      <th>77</th>\n",
       "      <td>0</td>\n",
       "      <td>101.33</td>\n",
       "    </tr>\n",
       "    <tr>\n",
       "      <th>15</th>\n",
       "      <td>0</td>\n",
       "      <td>103.00</td>\n",
       "    </tr>\n",
       "    <tr>\n",
       "      <th>57</th>\n",
       "      <td>0</td>\n",
       "      <td>103.50</td>\n",
       "    </tr>\n",
       "    <tr>\n",
       "      <th>51</th>\n",
       "      <td>0</td>\n",
       "      <td>104.50</td>\n",
       "    </tr>\n",
       "    <tr>\n",
       "      <th>27</th>\n",
       "      <td>0</td>\n",
       "      <td>107.00</td>\n",
       "    </tr>\n",
       "  </tbody>\n",
       "</table>\n",
       "<p>80 rows × 2 columns</p>\n",
       "</div>"
      ],
      "text/plain": [
       "    K-means cluster  True IMO Ranking\n",
       "33                1              1.63\n",
       "49                1              2.38\n",
       "29                1              4.13\n",
       "19                1              8.38\n",
       "69                1             10.00\n",
       "42                1             10.88\n",
       "5                 1             12.63\n",
       "4                 1             13.13\n",
       "8                 1             16.38\n",
       "58                1             16.63\n",
       "78                1             18.00\n",
       "39                1             21.13\n",
       "6                 1             23.88\n",
       "13                1             24.25\n",
       "7                 1             25.00\n",
       "71                1             26.13\n",
       "30                1             26.25\n",
       "46                1             26.38\n",
       "59                1             26.75\n",
       "62                1             27.75\n",
       "9                 1             28.25\n",
       "38                1             28.88\n",
       "17                1             29.00\n",
       "22                1             29.00\n",
       "63                1             30.75\n",
       "34                1             32.63\n",
       "55                2             41.75\n",
       "32                2             43.88\n",
       "28                2             44.88\n",
       "56                2             44.88\n",
       "..              ...               ...\n",
       "66                2             64.88\n",
       "25                2             65.88\n",
       "12                2             71.00\n",
       "64                0             72.33\n",
       "41                0             73.50\n",
       "76                0             76.50\n",
       "10                0             77.50\n",
       "31                0             78.63\n",
       "18                0             79.29\n",
       "2                 0             80.13\n",
       "47                0             81.63\n",
       "60                0             82.25\n",
       "11                0             83.75\n",
       "43                0             83.88\n",
       "44                0             85.00\n",
       "73                0             85.86\n",
       "54                0             86.38\n",
       "53                0             88.25\n",
       "3                 0             91.57\n",
       "48                0             92.25\n",
       "74                0             93.17\n",
       "79                0             94.57\n",
       "26                0             96.83\n",
       "75                0             97.50\n",
       "20                0             98.00\n",
       "77                0            101.33\n",
       "15                0            103.00\n",
       "57                0            103.50\n",
       "51                0            104.50\n",
       "27                0            107.00\n",
       "\n",
       "[80 rows x 2 columns]"
      ]
     },
     "execution_count": 41,
     "metadata": {},
     "output_type": "execute_result"
    }
   ],
   "source": [
    "kmeans = KMeans(n_clusters=3, random_state=0)\n",
    "y_train_cluster = kmeans.fit_predict(y_train.values.reshape(-1, 1))\n",
    "result = pd.DataFrame({'True IMO Ranking':y_train, 'K-means cluster':y_train_cluster})\n",
    "result.sort_values('True IMO Ranking')"
   ]
  },
  {
   "cell_type": "markdown",
   "metadata": {},
   "source": [
    "Using the splitting points derived from k-means, we have a log loss of 1.92 - the lowest so far. Seems that clustering indeed helps here."
   ]
  },
  {
   "cell_type": "code",
   "execution_count": 42,
   "metadata": {},
   "outputs": [
    {
     "name": "stdout",
     "output_type": "stream",
     "text": [
      "('Log loss from 3-fold cross validation:', 1.9256376052466966)\n",
      "\n"
     ]
    }
   ],
   "source": [
    "extra_class = ExtraTreesClassifier(random_state=0)\n",
    "cross_validation_logloss(extra_class, data=X_train_rec, label=y_train_cluster)"
   ]
  },
  {
   "cell_type": "markdown",
   "metadata": {},
   "source": [
    "### 3.4 Predict on Test Set\n",
    "\n",
    "Finally, let's predict on the test set. We will use confusion matrix, recall, precision, f1 score to evaluate our model."
   ]
  },
  {
   "cell_type": "code",
   "execution_count": 43,
   "metadata": {
    "collapsed": true
   },
   "outputs": [],
   "source": [
    "def plot_confusion_matrix(cm, classes,\n",
    "                          title='Confusion matrix',\n",
    "                          cmap=plt.cm.Greens):\n",
    "    \"\"\"\n",
    "    This function prints and plots the confusion matrix.\n",
    "    Normalization can be applied by setting `normalize=True`.\n",
    "    \"\"\"\n",
    "    print(cm)\n",
    "\n",
    "    plt.imshow(cm, interpolation='nearest', cmap=cmap)\n",
    "    plt.title(title)\n",
    "    plt.colorbar()\n",
    "    tick_marks = np.arange(len(classes))\n",
    "    plt.xticks(tick_marks, classes, rotation=45)\n",
    "    plt.yticks(tick_marks, classes)\n",
    "\n",
    "    fmt = 'd'\n",
    "    thresh = cm.max() / 2.\n",
    "    for i, j in itertools.product(range(cm.shape[0]), range(cm.shape[1])):\n",
    "        plt.text(j, i, format(cm[i, j], fmt),\n",
    "                 horizontalalignment=\"center\",\n",
    "                 color=\"white\" if cm[i, j] > thresh else \"black\")\n",
    "\n",
    "    plt.tight_layout()\n",
    "    plt.ylabel('True label')\n",
    "    plt.xlabel('Predicted label')"
   ]
  },
  {
   "cell_type": "markdown",
   "metadata": {},
   "source": [
    "From the table below, we see that the average precision, recall, and f1 scores are all above 0.7."
   ]
  },
  {
   "cell_type": "code",
   "execution_count": 44,
   "metadata": {},
   "outputs": [
    {
     "name": "stdout",
     "output_type": "stream",
     "text": [
      "             precision    recall  f1-score   support\n",
      "\n",
      "          0       0.80      0.50      0.62         8\n",
      "          1       0.78      1.00      0.88         7\n",
      "          2       0.57      0.67      0.62         6\n",
      "\n",
      "avg / total       0.73      0.71      0.70        21\n",
      "\n"
     ]
    }
   ],
   "source": [
    "extra_class.fit(X_train_rec, y_train_cluster)\n",
    "y_test_cluster = kmeans.predict(y_test.values.reshape(-1, 1))\n",
    "y_test_pred = extra_class.predict(X_test_rec)\n",
    "print classification_report(y_test_cluster, y_test_pred)"
   ]
  },
  {
   "cell_type": "markdown",
   "metadata": {},
   "source": [
    "We can also visualize the predictions using a confusion matrix. This lets us know that the model did a good job for the **medium ranking** class (class 1). We can conclude that the model generalizes well. "
   ]
  },
  {
   "cell_type": "code",
   "execution_count": 45,
   "metadata": {},
   "outputs": [
    {
     "name": "stdout",
     "output_type": "stream",
     "text": [
      "[[4 1 3]\n",
      " [0 7 0]\n",
      " [1 1 4]]\n"
     ]
    },
    {
     "data": {
      "image/png": "[encoded data removed]",
      "text/plain": [
       "<matplotlib.figure.Figure at 0x113d6e090>"
      ]
     },
     "metadata": {},
     "output_type": "display_data"
    }
   ],
   "source": [
    "cnf_matrix = confusion_matrix(y_test_cluster, y_test_pred)\n",
    "plot_confusion_matrix(cnf_matrix, classes=[0, 1, 2],\n",
    "                      title='Confusion matrix')"
   ]
  },
  {
   "cell_type": "markdown",
   "metadata": {
    "collapsed": true
   },
   "source": [
    "## 4. Final Discussion and Future Improvements\n",
    "\n",
    "We built predictive models to predict the mean IMO rank and the levels/ranges of the rank using both regression and classification techniques. Extra trees regressor/classifier was used throughout the modeling process. Recursive feature elimination was used to select predictive features.\n",
    "\n",
    "We used RMSE, precision, recall, etc. to evaluate the model. The conclusion is that the models generalize well on the unseen data (test data). However, the performance can be further improved. I have listed several areas for potential improvements:\n",
    "\n",
    "* Feature engineering: for this exercise, I focused more on feature selection and dimension reduction and didn't perform feature engineering which I'd love to do in the future. For example, we can have a feature that indicate the continent where a country belongs to\n",
    "* External data source: I'd like to see if we can find more available data that might improve the model. For example, health indicators can be helpful\n",
    "* Data quality: I'd like to check if feature have outliers to see if the model performance can be further improved\n",
    "* Hyper-parameter tuning: since the default paramter values are usually sufficent, I didn't tune the hyper-parameters. In practice, tuning parameters can further improve the model performance\n",
    "* Modeling technique: I have mostly focused on ensemble method for its generally good performance. However, with proper feature preprocessing, linear models can also have good performance. I'd like to try out factor analysis for dimension reduction and use linear models to make predictions. This will especially be helpful if we want to see which factor/feature is statistically significant. Also, it's easier to interpret\n",
    "* Better correlation analysis: I'd like to test if the correlation coefficients are statistically significant which I didn't have time to do for this exercise\n",
    "* Data visualization: I used a few plots to visualize the relationship between a few features and the mean ranking. I'd like to use more visualizations or even an interactive shiny app to get insights of the data. This can be helpful for data transformation. For example, if some features are skewed, using a log transformation can mitigate the problem."
   ]
  }
 ],
 "metadata": {
  "kernelspec": {
   "display_name": "Python 2",
   "language": "python",
   "name": "python2"
  },
  "language_info": {
   "codemirror_mode": {
    "name": "ipython",
    "version": 2
   },
   "file_extension": ".py",
   "mimetype": "text/x-python",
   "name": "python",
   "nbconvert_exporter": "python",
   "pygments_lexer": "ipython2",
   "version": "2.7.13"
  }
 },
 "nbformat": 4,
 "nbformat_minor": 2
}
